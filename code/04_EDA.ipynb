{
 "cells": [
  {
   "cell_type": "code",
   "execution_count": 18,
   "metadata": {},
   "outputs": [],
   "source": [
    "import pandas as pd\n",
    "import matplotlib.pyplot as plt"
   ]
  },
  {
   "cell_type": "code",
   "execution_count": 19,
   "metadata": {},
   "outputs": [],
   "source": [
    "df_test = pd.read_csv('../data/annotation/test_annotation.csv').drop(columns = 'Unnamed: 0')\n",
    "df_train = pd.read_csv('../data/annotation/train_annotation.csv').drop(columns = 'Unnamed: 0')"
   ]
  },
  {
   "cell_type": "code",
   "execution_count": 20,
   "metadata": {
    "scrolled": true
   },
   "outputs": [
    {
     "data": {
      "text/html": [
       "<div>\n",
       "<style scoped>\n",
       "    .dataframe tbody tr th:only-of-type {\n",
       "        vertical-align: middle;\n",
       "    }\n",
       "\n",
       "    .dataframe tbody tr th {\n",
       "        vertical-align: top;\n",
       "    }\n",
       "\n",
       "    .dataframe thead th {\n",
       "        text-align: right;\n",
       "    }\n",
       "</style>\n",
       "<table border=\"1\" class=\"dataframe\">\n",
       "  <thead>\n",
       "    <tr style=\"text-align: right;\">\n",
       "      <th></th>\n",
       "      <th>Filename</th>\n",
       "      <th>Annotation tag</th>\n",
       "      <th>Upper left corner X</th>\n",
       "      <th>Upper left corner Y</th>\n",
       "      <th>Lower right corner X</th>\n",
       "      <th>Lower right corner Y</th>\n",
       "      <th>Origin file</th>\n",
       "      <th>Origin frame number</th>\n",
       "      <th>Origin track</th>\n",
       "      <th>Origin track frame number</th>\n",
       "    </tr>\n",
       "  </thead>\n",
       "  <tbody>\n",
       "    <tr>\n",
       "      <th>0</th>\n",
       "      <td>dayTraining/dayClip1--00000.jpg</td>\n",
       "      <td>go</td>\n",
       "      <td>698</td>\n",
       "      <td>333</td>\n",
       "      <td>710</td>\n",
       "      <td>358</td>\n",
       "      <td>dayTraining/dayClip1/dayClip1Shutter0.000800-G...</td>\n",
       "      <td>0</td>\n",
       "      <td>dayTraining/dayClip1/dayClip1Shutter0.000800-G...</td>\n",
       "      <td>0</td>\n",
       "    </tr>\n",
       "    <tr>\n",
       "      <th>1</th>\n",
       "      <td>dayTraining/dayClip1--00000.jpg</td>\n",
       "      <td>go</td>\n",
       "      <td>846</td>\n",
       "      <td>391</td>\n",
       "      <td>858</td>\n",
       "      <td>411</td>\n",
       "      <td>dayTraining/dayClip1/dayClip1Shutter0.000800-G...</td>\n",
       "      <td>0</td>\n",
       "      <td>dayTraining/dayClip1/dayClip1Shutter0.000800-G...</td>\n",
       "      <td>0</td>\n",
       "    </tr>\n",
       "    <tr>\n",
       "      <th>2</th>\n",
       "      <td>dayTraining/dayClip1--00001.jpg</td>\n",
       "      <td>go</td>\n",
       "      <td>698</td>\n",
       "      <td>337</td>\n",
       "      <td>710</td>\n",
       "      <td>357</td>\n",
       "      <td>dayTraining/dayClip1/dayClip1Shutter0.000800-G...</td>\n",
       "      <td>1</td>\n",
       "      <td>dayTraining/dayClip1/dayClip1Shutter0.000800-G...</td>\n",
       "      <td>1</td>\n",
       "    </tr>\n",
       "    <tr>\n",
       "      <th>3</th>\n",
       "      <td>dayTraining/dayClip1--00001.jpg</td>\n",
       "      <td>go</td>\n",
       "      <td>847</td>\n",
       "      <td>390</td>\n",
       "      <td>859</td>\n",
       "      <td>410</td>\n",
       "      <td>dayTraining/dayClip1/dayClip1Shutter0.000800-G...</td>\n",
       "      <td>1</td>\n",
       "      <td>dayTraining/dayClip1/dayClip1Shutter0.000800-G...</td>\n",
       "      <td>1</td>\n",
       "    </tr>\n",
       "    <tr>\n",
       "      <th>4</th>\n",
       "      <td>dayTraining/dayClip1--00002.jpg</td>\n",
       "      <td>go</td>\n",
       "      <td>698</td>\n",
       "      <td>331</td>\n",
       "      <td>710</td>\n",
       "      <td>356</td>\n",
       "      <td>dayTraining/dayClip1/dayClip1Shutter0.000800-G...</td>\n",
       "      <td>2</td>\n",
       "      <td>dayTraining/dayClip1/dayClip1Shutter0.000800-G...</td>\n",
       "      <td>2</td>\n",
       "    </tr>\n",
       "  </tbody>\n",
       "</table>\n",
       "</div>"
      ],
      "text/plain": [
       "                          Filename Annotation tag  Upper left corner X  \\\n",
       "0  dayTraining/dayClip1--00000.jpg             go                  698   \n",
       "1  dayTraining/dayClip1--00000.jpg             go                  846   \n",
       "2  dayTraining/dayClip1--00001.jpg             go                  698   \n",
       "3  dayTraining/dayClip1--00001.jpg             go                  847   \n",
       "4  dayTraining/dayClip1--00002.jpg             go                  698   \n",
       "\n",
       "   Upper left corner Y  Lower right corner X  Lower right corner Y  \\\n",
       "0                  333                   710                   358   \n",
       "1                  391                   858                   411   \n",
       "2                  337                   710                   357   \n",
       "3                  390                   859                   410   \n",
       "4                  331                   710                   356   \n",
       "\n",
       "                                         Origin file  Origin frame number  \\\n",
       "0  dayTraining/dayClip1/dayClip1Shutter0.000800-G...                    0   \n",
       "1  dayTraining/dayClip1/dayClip1Shutter0.000800-G...                    0   \n",
       "2  dayTraining/dayClip1/dayClip1Shutter0.000800-G...                    1   \n",
       "3  dayTraining/dayClip1/dayClip1Shutter0.000800-G...                    1   \n",
       "4  dayTraining/dayClip1/dayClip1Shutter0.000800-G...                    2   \n",
       "\n",
       "                                        Origin track  \\\n",
       "0  dayTraining/dayClip1/dayClip1Shutter0.000800-G...   \n",
       "1  dayTraining/dayClip1/dayClip1Shutter0.000800-G...   \n",
       "2  dayTraining/dayClip1/dayClip1Shutter0.000800-G...   \n",
       "3  dayTraining/dayClip1/dayClip1Shutter0.000800-G...   \n",
       "4  dayTraining/dayClip1/dayClip1Shutter0.000800-G...   \n",
       "\n",
       "   Origin track frame number  \n",
       "0                          0  \n",
       "1                          0  \n",
       "2                          1  \n",
       "3                          1  \n",
       "4                          2  "
      ]
     },
     "execution_count": 20,
     "metadata": {},
     "output_type": "execute_result"
    }
   ],
   "source": [
    "df_train.head()"
   ]
  },
  {
   "cell_type": "code",
   "execution_count": 21,
   "metadata": {},
   "outputs": [],
   "source": [
    "df_train['images'] = df_train['Filename'].apply(lambda x: x.split('/')[1])\n",
    "df_test['images'] = df_test['Filename'].apply(lambda x: x.split('/')[1])"
   ]
  },
  {
   "cell_type": "code",
   "execution_count": 22,
   "metadata": {},
   "outputs": [],
   "source": [
    "df_train['image_flow'] = df_train['Annotation tag'] + '/' + df_train['images']\n",
    "df_test['image_flow'] = df_test['Annotation tag'] + '/' + df_test['images']"
   ]
  },
  {
   "cell_type": "code",
   "execution_count": 23,
   "metadata": {},
   "outputs": [],
   "source": [
    "df_test.drop(df_test.loc[df_test['Annotation tag'] == 'goForward'].index, inplace = True)"
   ]
  },
  {
   "cell_type": "code",
   "execution_count": 24,
   "metadata": {},
   "outputs": [
    {
     "data": {
      "text/plain": [
       "Index(['go', 'stop', 'stopLeft', 'warning', 'goLeft', 'warningLeft'], dtype='object')"
      ]
     },
     "execution_count": 24,
     "metadata": {},
     "output_type": "execute_result"
    }
   ],
   "source": [
    "df_train['Annotation tag'].value_counts(normalize = True).index"
   ]
  },
  {
   "cell_type": "code",
   "execution_count": 30,
   "metadata": {},
   "outputs": [
    {
     "data": {
      "text/plain": [
       "''"
      ]
     },
     "execution_count": 30,
     "metadata": {},
     "output_type": "execute_result"
    },
    {
     "data": {
      "image/png": "[encoded data removed]",
      "text/plain": [
       "<Figure size 576x576 with 1 Axes>"
      ]
     },
     "metadata": {
      "needs_background": "light"
     },
     "output_type": "display_data"
    }
   ],
   "source": [
    "plt.figure(figsize = (8,8))\n",
    "plt.bar(df_train['Annotation tag'].value_counts(normalize = True).index,\n",
    "        df_train['Annotation tag'].value_counts(normalize = True))\n",
    "plt.xlabel('Annotation Tags', size = 15)\n",
    "plt.ylabel('Frequency', size = 15)\n",
    "plt.title('Annotation Tags Distribution in Train Data', size = 25)\n",
    ";"
   ]
  },
  {
   "cell_type": "code",
   "execution_count": 34,
   "metadata": {},
   "outputs": [
    {
     "data": {
      "text/plain": [
       "''"
      ]
     },
     "execution_count": 34,
     "metadata": {},
     "output_type": "execute_result"
    },
    {
     "data": {
      "image/png": "[encoded data removed]",
      "text/plain": [
       "<Figure size 576x576 with 1 Axes>"
      ]
     },
     "metadata": {
      "needs_background": "light"
     },
     "output_type": "display_data"
    }
   ],
   "source": [
    "plt.figure(figsize = (8,8))\n",
    "plt.bar(df_test['Annotation tag'].value_counts(normalize = True).index,\n",
    "        df_test['Annotation tag'].value_counts(normalize = True), color = 'skyblue')\n",
    "plt.xlabel('Annotation Tags', size = 15)\n",
    "plt.ylabel('Frequency', size = 15)\n",
    "plt.title('Annotation Tags Distribution in Test Data', size = 25)\n",
    ";"
   ]
  },
  {
   "cell_type": "code",
   "execution_count": null,
   "metadata": {},
   "outputs": [],
   "source": []
  }
 ],
 "metadata": {
  "kernelspec": {
   "display_name": "Python 3",
   "language": "python",
   "name": "python3"
  },
  "language_info": {
   "codemirror_mode": {
    "name": "ipython",
    "version": 3
   },
   "file_extension": ".py",
   "mimetype": "text/x-python",
   "name": "python",
   "nbconvert_exporter": "python",
   "pygments_lexer": "ipython3",
   "version": "3.7.6"
  }
 },
 "nbformat": 4,
 "nbformat_minor": 4
}
