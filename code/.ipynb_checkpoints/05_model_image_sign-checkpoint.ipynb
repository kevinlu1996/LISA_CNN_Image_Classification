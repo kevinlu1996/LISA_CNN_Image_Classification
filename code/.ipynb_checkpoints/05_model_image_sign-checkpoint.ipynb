{
 "cells": [
  {
   "cell_type": "code",
   "execution_count": 81,
   "metadata": {},
   "outputs": [],
   "source": [
    "import pandas as pd\n",
    "import numpy as np\n",
    "import matplotlib.pyplot as plt\n",
    "import keras.backend as k\n",
    "\n",
    "from sklearn.model_selection import train_test_split\n",
    "from sklearn.metrics import confusion_matrix, classification_report\n",
    "from tensorflow.keras import optimizers, regularizers\n",
    "from tensorflow.keras.models import Sequential\n",
    "from tensorflow.keras.layers import Dense, Dropout, Flatten, ZeroPadding2D, Input, Conv2D, MaxPool2D\n",
    "from keras.layers.normalization import BatchNormalization\n",
    "from tensorflow.keras.preprocessing.image import ImageDataGenerator\n",
    "from tensorflow.keras.callbacks import EarlyStopping, ReduceLROnPlateau, ModelCheckpoint\n"
   ]
  },
  {
   "cell_type": "code",
   "execution_count": 82,
   "metadata": {},
   "outputs": [],
   "source": [
    "df_test = pd.read_csv('../data/annotation/test_annotation.csv').drop(columns = 'Unnamed: 0')\n",
    "df_train = pd.read_csv('../data/annotation/train_annotation.csv').drop(columns = 'Unnamed: 0')"
   ]
  },
  {
   "cell_type": "code",
   "execution_count": 83,
   "metadata": {},
   "outputs": [],
   "source": [
    "df_train['images'] = df_train['Filename'].apply(lambda x: x.split('/')[1])\n",
    "df_test['images'] = df_test['Filename'].apply(lambda x: x.split('/')[1])"
   ]
  },
  {
   "cell_type": "code",
   "execution_count": 84,
   "metadata": {},
   "outputs": [],
   "source": [
    "df_train['image_flow'] = df_train['Annotation tag'] + '/' + df_train['images']\n",
    "df_test['image_flow'] = df_test['Annotation tag'] + '/' + df_test['images']"
   ]
  },
  {
   "cell_type": "code",
   "execution_count": 85,
   "metadata": {},
   "outputs": [
    {
     "name": "stderr",
     "output_type": "stream",
     "text": [
      "/Users/kevinlu/anaconda3/envs/dsi/lib/python3.7/site-packages/ipykernel_launcher.py:3: SettingWithCopyWarning: \n",
      "A value is trying to be set on a copy of a slice from a DataFrame\n",
      "\n",
      "See the caveats in the documentation: https://pandas.pydata.org/pandas-docs/stable/user_guide/indexing.html#returning-a-view-versus-a-copy\n",
      "  This is separate from the ipykernel package so we can avoid doing imports until\n"
     ]
    }
   ],
   "source": [
    "# create new df_test with no duplicates\n",
    "df_test_flow = df_test[['Annotation tag','image_flow']]\n",
    "df_test_flow.drop_duplicates(inplace = True)"
   ]
  },
  {
   "cell_type": "code",
   "execution_count": 86,
   "metadata": {
    "scrolled": true
   },
   "outputs": [
    {
     "data": {
      "text/plain": [
       "go             0.442751\n",
       "stop           0.354687\n",
       "stopLeft       0.148709\n",
       "warning        0.024274\n",
       "goLeft         0.023849\n",
       "warningLeft    0.005731\n",
       "Name: Annotation tag, dtype: float64"
      ]
     },
     "execution_count": 86,
     "metadata": {},
     "output_type": "execute_result"
    }
   ],
   "source": [
    "df_train['Annotation tag'].value_counts(normalize = True)"
   ]
  },
  {
   "cell_type": "code",
   "execution_count": 87,
   "metadata": {},
   "outputs": [
    {
     "data": {
      "text/plain": [
       "stop           0.449895\n",
       "go             0.412444\n",
       "stopLeft       0.087200\n",
       "warning        0.024476\n",
       "goLeft         0.021509\n",
       "goForward      0.003556\n",
       "warningLeft    0.000919\n",
       "Name: Annotation tag, dtype: float64"
      ]
     },
     "execution_count": 87,
     "metadata": {},
     "output_type": "execute_result"
    }
   ],
   "source": [
    "df_test['Annotation tag'].value_counts(normalize = True)"
   ]
  },
  {
   "cell_type": "markdown",
   "metadata": {},
   "source": [
    "## Train/Test Data Structure"
   ]
  },
  {
   "cell_type": "code",
   "execution_count": 88,
   "metadata": {},
   "outputs": [],
   "source": [
    "train = ImageDataGenerator(         \n",
    "    width_shift_range = 0.2,      # shift horizontal by 0.2\n",
    "    height_shift_range = 0.2,     # shift vertical by 0.2\n",
    "    shear_range = 0.2,\n",
    "    zoom_range = 0.2,             # zoom in by 0.2\n",
    "    rescale = 1./255,\n",
    "    fill_mode = 'nearest'\n",
    ") \n",
    "\n",
    "test = ImageDataGenerator(\n",
    "    rescale = 1./255\n",
    ")"
   ]
  },
  {
   "cell_type": "code",
   "execution_count": 89,
   "metadata": {},
   "outputs": [],
   "source": [
    "# from dataframe (annotation)\n",
    "# test_generator = test.flow_from_dataframe(\n",
    "#             dataframe=df_test_flow, \n",
    "#             directory=\"../data/test_eda/\", \n",
    "#             x_col='image_flow', \n",
    "#             y_col= 'Annotation tag', \n",
    "#             class_mode=\"categorical\", \n",
    "#             target_size=(128,128),     # check docs\n",
    "#             batch_size= 32    #increase \n",
    "# )"
   ]
  },
  {
   "cell_type": "code",
   "execution_count": 90,
   "metadata": {},
   "outputs": [
    {
     "name": "stdout",
     "output_type": "stream",
     "text": [
      "Found 29721 images belonging to 2 classes.\n",
      "Found 32306 images belonging to 2 classes.\n"
     ]
    }
   ],
   "source": [
    "# from directory\n",
    "train_data = train.flow_from_directory(\n",
    "    '../data/sign_train/',\n",
    "    target_size = (64,64),               # image size __ x __\n",
    "    batch_size = 64,                       # each model run ___ images\n",
    "    class_mode = 'binary'\n",
    ")\n",
    "\n",
    "test_data = test.flow_from_directory(\n",
    "    '../data/sign_test/',\n",
    "    target_size = (64,64),\n",
    "    batch_size = 64,\n",
    "    class_mode = 'binary'\n",
    ")"
   ]
  },
  {
   "cell_type": "code",
   "execution_count": 91,
   "metadata": {},
   "outputs": [
    {
     "data": {
      "text/plain": [
       "{0: 1.0538655974897586, 1: 19.56472491909385}"
      ]
     },
     "execution_count": 91,
     "metadata": {},
     "output_type": "execute_result"
    }
   ],
   "source": [
    "# create class weight\n",
    "label_count = {}\n",
    "tags = ['go','goLeft']\n",
    "\n",
    "for tag in tags:\n",
    "    label_count[tag] = len(df_train[df_train['Annotation tag'] == tag])\n",
    "\n",
    "total_count = sum(label_count.values())\n",
    "\n",
    "class_weight = {label:total_count/count for label,count in enumerate(label_count.values())}\n",
    "class_weight"
   ]
  },
  {
   "cell_type": "code",
   "execution_count": 92,
   "metadata": {},
   "outputs": [],
   "source": [
    "batch_size = 64\n",
    "num_of_test_sample = 32306"
   ]
  },
  {
   "cell_type": "markdown",
   "metadata": {},
   "source": [
    "## Model"
   ]
  },
  {
   "cell_type": "code",
   "execution_count": 93,
   "metadata": {},
   "outputs": [
    {
     "name": "stdout",
     "output_type": "stream",
     "text": [
      "_________________________________________________________________\n",
      "Layer (type)                 Output Shape              Param #   \n",
      "=================================================================\n",
      "conv2d_12 (Conv2D)           (None, 64, 64, 400)       1600      \n",
      "_________________________________________________________________\n",
      "max_pooling2d_12 (MaxPooling (None, 32, 32, 400)       0         \n",
      "_________________________________________________________________\n",
      "conv2d_13 (Conv2D)           (None, 31, 31, 200)       320200    \n",
      "_________________________________________________________________\n",
      "max_pooling2d_13 (MaxPooling (None, 15, 15, 200)       0         \n",
      "_________________________________________________________________\n",
      "flatten_4 (Flatten)          (None, 45000)             0         \n",
      "_________________________________________________________________\n",
      "dense_12 (Dense)             (None, 36)                1620036   \n",
      "_________________________________________________________________\n",
      "dropout_8 (Dropout)          (None, 36)                0         \n",
      "_________________________________________________________________\n",
      "dense_13 (Dense)             (None, 18)                666       \n",
      "_________________________________________________________________\n",
      "dropout_9 (Dropout)          (None, 18)                0         \n",
      "_________________________________________________________________\n",
      "dense_14 (Dense)             (None, 1)                 19        \n",
      "=================================================================\n",
      "Total params: 1,942,521\n",
      "Trainable params: 1,942,521\n",
      "Non-trainable params: 0\n",
      "_________________________________________________________________\n",
      "Epoch 1/15\n",
      "505/505 [==============================] - 631s 1s/step - loss: 0.7853 - acc: 0.9152\n",
      "465/465 [==============================] - 1925s 4s/step - loss: 0.5945 - acc: 0.9615 - val_loss: 0.7853 - val_acc: 0.9152\n",
      "Epoch 2/15\n",
      "505/505 [==============================] - 632s 1s/step - loss: 0.8329 - acc: 0.9042\n",
      "465/465 [==============================] - 1917s 4s/step - loss: 0.0971 - acc: 0.9879 - val_loss: 0.8329 - val_acc: 0.9042\n",
      "Epoch 3/15\n",
      "505/505 [==============================] - 632s 1s/step - loss: 0.7679 - acc: 0.8805\n",
      "465/465 [==============================] - 1916s 4s/step - loss: 0.0593 - acc: 0.9917 - val_loss: 0.7679 - val_acc: 0.8805\n",
      "Epoch 4/15\n",
      "505/505 [==============================] - 632s 1s/step - loss: 0.7725 - acc: 0.8982\n",
      "465/465 [==============================] - 1915s 4s/step - loss: 0.0528 - acc: 0.9927 - val_loss: 0.7725 - val_acc: 0.8982\n",
      "Epoch 5/15\n",
      "505/505 [==============================] - 632s 1s/step - loss: 0.8809 - acc: 0.9174\n",
      "465/465 [==============================] - 1916s 4s/step - loss: 0.0517 - acc: 0.9933 - val_loss: 0.8809 - val_acc: 0.9174\n",
      "Epoch 6/15\n",
      "505/505 [==============================] - 631s 1s/step - loss: 0.8928 - acc: 0.9181\n",
      "465/465 [==============================] - 1916s 4s/step - loss: 0.0279 - acc: 0.9965 - val_loss: 0.8928 - val_acc: 0.9181\n"
     ]
    }
   ],
   "source": [
    "# Model\n",
    "model = Sequential()\n",
    "\n",
    "model.add(Conv2D(filters = 400,\n",
    "                 kernel_size = (1,1),\n",
    "                 activation = 'relu',\n",
    "                 input_shape = (64,64,3)))\n",
    "model.add(MaxPool2D(pool_size = (2,2)))\n",
    "\n",
    "\n",
    "model.add(Conv2D(200,\n",
    "                 kernel_size = (2,2),\n",
    "                 kernel_regularizer = regularizers.l2(0.05),\n",
    "                 activation = 'relu'))\n",
    "model.add(MaxPool2D(pool_size = (2,2)))\n",
    "\n",
    "\n",
    "\n",
    "\n",
    "\n",
    "\n",
    "model.add(Flatten())\n",
    "model.add(Dense(36,\n",
    "                activation = 'relu'))\n",
    "model.add(Dropout(0.3))\n",
    "\n",
    "model.add(Dense(18,\n",
    "                activation = 'relu'))\n",
    "model.add(Dropout(0.2))\n",
    "\n",
    "# callbacks\n",
    "es = EarlyStopping(\n",
    "    monitor=\"val_loss\",\n",
    "    min_delta=0.5,\n",
    "    patience=5,\n",
    "    restore_best_weights = True\n",
    ")\n",
    "\n",
    "rp = ReduceLROnPlateau(factor = 0.01,\n",
    "                       patience = 2)\n",
    "\n",
    "callbacks = [es, rp]\n",
    "\n",
    "# output\n",
    "model.add(Dense(1,\n",
    "                activation = 'sigmoid'))\n",
    "\n",
    "\n",
    "# compile\n",
    "model.compile(loss = 'binary_crossentropy',\n",
    "              optimizer = 'adam',\n",
    "              metrics = ['acc'])\n",
    "\n",
    "model.summary()\n",
    "\n",
    "\n",
    "history = model.fit_generator(train_data,\n",
    "                              epochs = 15,\n",
    "                              validation_data = test_data,\n",
    "                              callbacks = callbacks,\n",
    "                              class_weight= class_weight,\n",
    "                              verbose = 1 )"
   ]
  },
  {
   "cell_type": "code",
   "execution_count": 94,
   "metadata": {},
   "outputs": [
    {
     "name": "stdout",
     "output_type": "stream",
     "text": [
      "505/505 [==============================] - 631s 1s/step\n"
     ]
    }
   ],
   "source": [
    "y_pred_class = model.predict_classes(test_data,\n",
    "                                     num_of_test_sample // batch_size+1,\n",
    "                                     verbose = 1)"
   ]
  },
  {
   "cell_type": "code",
   "execution_count": 95,
   "metadata": {},
   "outputs": [
    {
     "data": {
      "text/plain": [
       "array([418])"
      ]
     },
     "execution_count": 95,
     "metadata": {},
     "output_type": "execute_result"
    }
   ],
   "source": [
    "sum(y_pred_class == 1)"
   ]
  },
  {
   "cell_type": "code",
   "execution_count": 96,
   "metadata": {},
   "outputs": [],
   "source": [
    "y_pred_arg_class = np.argmax(y_pred_class, axis = 1)"
   ]
  },
  {
   "cell_type": "code",
   "execution_count": 97,
   "metadata": {},
   "outputs": [
    {
     "data": {
      "text/plain": [
       "numpy.ndarray"
      ]
     },
     "execution_count": 97,
     "metadata": {},
     "output_type": "execute_result"
    }
   ],
   "source": [
    "type(y_pred_class)"
   ]
  },
  {
   "cell_type": "code",
   "execution_count": 98,
   "metadata": {},
   "outputs": [
    {
     "data": {
      "text/plain": [
       "numpy.ndarray"
      ]
     },
     "execution_count": 98,
     "metadata": {},
     "output_type": "execute_result"
    }
   ],
   "source": [
    "type(test_data.classes)"
   ]
  },
  {
   "cell_type": "code",
   "execution_count": 99,
   "metadata": {},
   "outputs": [
    {
     "data": {
      "text/plain": [
       "array([0, 0, 0, ..., 1, 1, 1], dtype=int32)"
      ]
     },
     "execution_count": 99,
     "metadata": {},
     "output_type": "execute_result"
    }
   ],
   "source": [
    "test_data.classes"
   ]
  },
  {
   "cell_type": "code",
   "execution_count": 100,
   "metadata": {},
   "outputs": [],
   "source": [
    "matrix = confusion_matrix(test_data.classes, y_pred_class)"
   ]
  },
  {
   "cell_type": "code",
   "execution_count": 101,
   "metadata": {},
   "outputs": [
    {
     "data": {
      "text/html": [
       "<div>\n",
       "<style scoped>\n",
       "    .dataframe tbody tr th:only-of-type {\n",
       "        vertical-align: middle;\n",
       "    }\n",
       "\n",
       "    .dataframe tbody tr th {\n",
       "        vertical-align: top;\n",
       "    }\n",
       "\n",
       "    .dataframe thead th {\n",
       "        text-align: right;\n",
       "    }\n",
       "</style>\n",
       "<table border=\"1\" class=\"dataframe\">\n",
       "  <thead>\n",
       "    <tr style=\"text-align: right;\">\n",
       "      <th></th>\n",
       "      <th>actual go</th>\n",
       "      <th>actual goLeft</th>\n",
       "    </tr>\n",
       "  </thead>\n",
       "  <tbody>\n",
       "    <tr>\n",
       "      <th>predicted go</th>\n",
       "      <td>29533</td>\n",
       "      <td>390</td>\n",
       "    </tr>\n",
       "    <tr>\n",
       "      <th>predicted goLeft</th>\n",
       "      <td>2355</td>\n",
       "      <td>28</td>\n",
       "    </tr>\n",
       "  </tbody>\n",
       "</table>\n",
       "</div>"
      ],
      "text/plain": [
       "                  actual go  actual goLeft\n",
       "predicted go          29533            390\n",
       "predicted goLeft       2355             28"
      ]
     },
     "execution_count": 101,
     "metadata": {},
     "output_type": "execute_result"
    }
   ],
   "source": [
    "pd.DataFrame(matrix, columns= ['actual go', 'actual goLeft'], index=['predicted go','predicted goLeft'])"
   ]
  },
  {
   "cell_type": "code",
   "execution_count": 102,
   "metadata": {},
   "outputs": [],
   "source": [
    "# classification report\n",
    "report = classification_report(test_data.classes, y_pred_class)"
   ]
  },
  {
   "cell_type": "code",
   "execution_count": 103,
   "metadata": {},
   "outputs": [
    {
     "name": "stdout",
     "output_type": "stream",
     "text": [
      "              precision    recall  f1-score   support\n",
      "\n",
      "           0       0.93      0.99      0.96     29923\n",
      "           1       0.07      0.01      0.02      2383\n",
      "\n",
      "    accuracy                           0.92     32306\n",
      "   macro avg       0.50      0.50      0.49     32306\n",
      "weighted avg       0.86      0.92      0.89     32306\n",
      "\n"
     ]
    }
   ],
   "source": [
    "print(report)"
   ]
  },
  {
   "cell_type": "code",
   "execution_count": 104,
   "metadata": {},
   "outputs": [
    {
     "data": {
      "image/png": "[encoded data removed]",
      "text/plain": [
       "<Figure size 864x576 with 1 Axes>"
      ]
     },
     "metadata": {
      "needs_background": "light"
     },
     "output_type": "display_data"
    }
   ],
   "source": [
    "# loss visualization\n",
    "train_loss = history.history['loss']\n",
    "test_loss = history.history['val_loss']\n",
    "plt.figure(figsize=(12, 8))\n",
    "plt.plot(train_loss, label='Training Loss', color='#185fad')\n",
    "plt.plot(test_loss, label='Testing Loss', color='orange')\n",
    "plt.title('Training and Testing Loss by Epoch Model', fontsize = 25)\n",
    "plt.xlabel('Epoch', fontsize = 18)\n",
    "plt.ylabel('Categorical Crossentropy', fontsize = 18)\n",
    "# plt.xticks(np.arange(10), np.arange(10))\n",
    "plt.legend(fontsize = 18);"
   ]
  },
  {
   "cell_type": "code",
   "execution_count": 105,
   "metadata": {},
   "outputs": [
    {
     "data": {
      "image/png": "[encoded data removed]",
      "text/plain": [
       "<Figure size 864x576 with 1 Axes>"
      ]
     },
     "metadata": {
      "needs_background": "light"
     },
     "output_type": "display_data"
    }
   ],
   "source": [
    "# accuracy visualization\n",
    "train_acc = history.history['acc']\n",
    "test_acc = history.history['val_acc']\n",
    "plt.figure(figsize=(12, 8))\n",
    "plt.plot(train_acc, label='Training Acc', color='#185fad')\n",
    "plt.plot(test_acc, label='Testing Acc', color='orange')\n",
    "plt.title('Training and Testing Acc by Epoch Model', fontsize = 25)\n",
    "plt.xlabel('Epochs', fontsize = 18)\n",
    "plt.ylabel('Categorical Crossentropy', fontsize = 18)\n",
    "# plt.xticks(np.arange(10), np.arange(10))\n",
    "plt.legend(fontsize = 18);"
   ]
  },
  {
   "cell_type": "code",
   "execution_count": 106,
   "metadata": {
    "scrolled": true
   },
   "outputs": [
    {
     "name": "stdout",
     "output_type": "stream",
     "text": [
      "505/505 [==============================] - 632s 1s/step - loss: 0.7853 - acc: 0.9152\n",
      "loss 0.785331769885108\n",
      "acc 0.91515505\n"
     ]
    }
   ],
   "source": [
    "# value for test loss and accuracy\n",
    "score = model.evaluate(test_data,\n",
    "                       verbose=1)\n",
    "\n",
    "labels = model.metrics_names\n",
    "\n",
    "print(labels[0], score[0])\n",
    "print(labels[1], score[1])"
   ]
  },
  {
   "cell_type": "code",
   "execution_count": 121,
   "metadata": {},
   "outputs": [
    {
     "data": {
      "text/plain": [
       "418"
      ]
     },
     "execution_count": 121,
     "metadata": {},
     "output_type": "execute_result"
    }
   ],
   "source": [
    "sum(y_pred_class.flatten())"
   ]
  },
  {
   "cell_type": "code",
   "execution_count": 111,
   "metadata": {},
   "outputs": [
    {
     "data": {
      "text/plain": [
       "array([418], dtype=int32)"
      ]
     },
     "execution_count": 111,
     "metadata": {},
     "output_type": "execute_result"
    }
   ],
   "source": [
    "sum(y_pred_class)"
   ]
  },
  {
   "cell_type": "code",
   "execution_count": 124,
   "metadata": {},
   "outputs": [
    {
     "data": {
      "image/png": "[encoded data removed]",
      "text/plain": [
       "<Figure size 720x504 with 1 Axes>"
      ]
     },
     "metadata": {
      "needs_background": "light"
     },
     "output_type": "display_data"
    }
   ],
   "source": [
    "# distribution of outcome\n",
    "\n",
    "pred_proba_df = pd.DataFrame({\n",
    "    'true' : test_data.classes,\n",
    "    'pred_prob' : y_pred_class.flatten()\n",
    "})\n",
    "\n",
    "# Adapt from notes Classification Metrics II\n",
    "\n",
    "# Create figure.\n",
    "plt.figure(figsize = (10,7))\n",
    "\n",
    "# Create two histograms of observations.\n",
    "plt.hist(pred_proba_df[pred_proba_df['true'] == 0]['pred_prob'],\n",
    "         bins = 25,\n",
    "         color = 'b',\n",
    "         alpha = 0.6,\n",
    "         label = 'Outcome = 0')\n",
    "plt.hist(pred_proba_df[pred_proba_df['true'] == 1]['pred_prob'],\n",
    "         bins = 25,\n",
    "         color = 'orange',\n",
    "         alpha = 0.6,\n",
    "         label = 'Outcome = 1')\n",
    "\n",
    "# Add vertical line at P(Outcome = 1) = 0.5.\n",
    "plt.vlines(x = 0.5,\n",
    "           ymin = 0,\n",
    "           ymax = 30000,\n",
    "           color = 'r',\n",
    "           linestyle = '--')\n",
    "\n",
    "# Add annotations for TN, FN, TP, FP.\n",
    "plt.annotate(xy = (0.04, 30000),\n",
    "             s = 'TN',\n",
    "             size = 20)\n",
    "\n",
    "plt.annotate(xy = (0.04, 2000),\n",
    "             s = 'FN',\n",
    "             size = 20)\n",
    "\n",
    "plt.annotate(xy = (0.95, 2000),\n",
    "             s = 'TP',\n",
    "             size = 20)\n",
    "\n",
    "plt.annotate(xy = (1, 50),\n",
    "             s = 'FP',\n",
    "             size = 20)\n",
    "\n",
    "# Label axes.\n",
    "plt.title('Model test sign recognition', fontsize = 22)\n",
    "plt.ylabel('Frequency', fontsize = 18)\n",
    "plt.xlabel('Predicted Probability that Outcome = 1 (goLeft)', fontsize = 18)\n",
    "\n",
    "# Create legend.\n",
    "plt.legend(fontsize = 20);"
   ]
  },
  {
   "cell_type": "code",
   "execution_count": null,
   "metadata": {},
   "outputs": [],
   "source": []
  }
 ],
 "metadata": {
  "kernelspec": {
   "display_name": "Python 3",
   "language": "python",
   "name": "python3"
  },
  "language_info": {
   "codemirror_mode": {
    "name": "ipython",
    "version": 3
   },
   "file_extension": ".py",
   "mimetype": "text/x-python",
   "name": "python",
   "nbconvert_exporter": "python",
   "pygments_lexer": "ipython3",
   "version": "3.7.6"
  }
 },
 "nbformat": 4,
 "nbformat_minor": 4
}
