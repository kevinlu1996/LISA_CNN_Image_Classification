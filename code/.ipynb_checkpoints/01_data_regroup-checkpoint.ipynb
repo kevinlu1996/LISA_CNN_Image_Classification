{
 "cells": [
  {
   "cell_type": "code",
   "execution_count": 1,
   "metadata": {},
   "outputs": [],
   "source": [
    "#!pip install opencv-python "
   ]
  },
  {
   "cell_type": "markdown",
   "metadata": {},
   "source": [
    "## dataset link\n",
    "- https://www.kaggle.com/mbornoe/lisa-traffic-light-dataset"
   ]
  },
  {
   "cell_type": "markdown",
   "metadata": {},
   "source": [
    "## annotation explanation\n",
    "- The first annotation type contains information of the entire TL area and what state the TL is in. This annotation file is called frameAnnotationsBOX, and is generated from the second annotation file by enlarging all annotation larger than 4x4. The second one is annotation marking only the area of the traffic light which is lit and what state it is in. This second annotation file is called frameAnnotationsBULB."
   ]
  },
  {
   "cell_type": "code",
   "execution_count": 2,
   "metadata": {},
   "outputs": [],
   "source": [
    "# Libraries \n",
    "import pandas as pd \n",
    "import os\n",
    "import shutil"
   ]
  },
  {
   "cell_type": "markdown",
   "metadata": {},
   "source": [
    "## REGROUP FRAMES: DAY TRAIN, NIGHT TRAIN, DAY TEST, NIGHT TEST"
   ]
  },
  {
   "cell_type": "code",
   "execution_count": 3,
   "metadata": {},
   "outputs": [],
   "source": [
    "# create train, test directory\n",
    "os.mkdir('../data/train')\n",
    "os.mkdir('../data/test')\n",
    "os.mkdir('../data/annotation')"
   ]
  },
  {
   "cell_type": "markdown",
   "metadata": {},
   "source": [
    "## load image into train folder"
   ]
  },
  {
   "cell_type": "code",
   "execution_count": 4,
   "metadata": {},
   "outputs": [],
   "source": [
    "# get day image dir list (before filename.jpg)\n",
    "base_day_dir = '../data/lisa-traffic-light-dataset/dayTrain/dayTrain/'\n",
    "folder_day_list = [f'dayClip{i}/' for i in range(1,14)]      # dayClip1 to dayClip13\n",
    "# day image directory\n",
    "img_day_dir = [f'{base_day_dir}{i}frames/' for i in folder_day_list] # ../.../frames/ (need image name)\n",
    "\n",
    "\n",
    "# get night image directory list (before filename.jpg)\n",
    "base_night_dir = '../data/lisa-traffic-light-dataset/nightTrain/nightTrain/'\n",
    "folder_night_list = [f'nightClip{i}/' for i in range(1,6)]  # nightClip1 to nightClip5\n",
    "# night image directory\n",
    "img_night_dir = [f'{base_night_dir}{i}frames/' for i in folder_night_list] # ../.../frames/ (need image name)\n",
    "\n",
    "\n",
    "\n",
    "# get annotations csv directory\n",
    "file_list = ['frameAnnotationsBOX.csv','frameAnnotationsBULB.csv']\n",
    "\n",
    "# annotation train day\n",
    "base_image_dir_daytrain = '../data/lisa-traffic-light-dataset/Annotations/Annotations/dayTrain/'\n",
    "# annotation train night\n",
    "base_image_dir_nighttrain = '../data/lisa-traffic-light-dataset/Annotations/Annotations/nightTrain/'\n",
    "\n",
    "\n",
    "# get image filename.jpg list from Annotation csv\n",
    "def get_train_file(path, folder_name, file):\n",
    "    '''\n",
    "        path = annotaion train day, annotation train night\n",
    "        folder_name = dayClip{}, nightClip{}\n",
    "        file = file_list (use BOX)\n",
    "    '''\n",
    "    file_name = []\n",
    "    # ../daytrain/ + dayclip{}/ annotationBOX\n",
    "    file_dir = path + folder_name + file\n",
    "    df = pd.read_csv(file_dir, delimiter = ';')\n",
    "    \n",
    "    # get all image name (no directory)\n",
    "    for i in range(len(df)):\n",
    "        img = df['Filename'][i].split('/')[1]     # get rid of part before image name\n",
    "        file_name.append(img)    \n",
    "      \n",
    "\n",
    "    # output image name (no directory) from train folder\n",
    "    return file_name    \n",
    "\n",
    "\n",
    "# load day_image.jpg into train folder\n",
    "for i in range(len(folder_day_list)):\n",
    "\n",
    "        day_image = []\n",
    "\n",
    "        # get image filename.jpg\n",
    "        img = get_train_file(base_image_dir_daytrain, folder_day_list[i], file_list[0])\n",
    "\n",
    "        # import image filename.jpg to day_image\n",
    "        for x in img:\n",
    "            day_image.append(x)\n",
    "\n",
    "        # drop duplicate\n",
    "        day_image_set = set(day_image)\n",
    "        day_image = list(day_image_set)\n",
    "        \n",
    "        # add image from day_image to new train folder\n",
    "        for image in day_image:\n",
    "            src = os.path.join(img_day_dir[i], image)\n",
    "            dst = os.path.join('../data/train', image)\n",
    "            shutil.copyfile(src,dst)\n",
    "\n",
    "\n",
    "# load night_image.jpg into train folder\n",
    "for i in range(len(folder_night_list)):\n",
    "        night_image = []\n",
    "\n",
    "        # get image filename\n",
    "        img = get_train_file(base_image_dir_nighttrain, folder_night_list[i], file_list[0])\n",
    "\n",
    "        # import image filename to night_image\n",
    "        for x in img:\n",
    "            night_image.append(x)\n",
    "\n",
    "        # drop duplicate\n",
    "        night_image_set = set(night_image)\n",
    "        night_image = list(night_image_set)\n",
    "\n",
    "        for image in night_image:\n",
    "            src = os.path.join(img_night_dir[i], image)\n",
    "            dst = os.path.join('../data/train', image)\n",
    "            shutil.copyfile(src,dst)\n"
   ]
  },
  {
   "cell_type": "markdown",
   "metadata": {},
   "source": [
    "## load image into test folder"
   ]
  },
  {
   "cell_type": "code",
   "execution_count": 6,
   "metadata": {},
   "outputs": [],
   "source": [
    "# get day image dir list (before filename.jpg)\n",
    "base_day_dir = [f'../data/lisa-traffic-light-dataset/daySequence{i}/daySequence{i}/' for i in [1,2]]\n",
    "img_day_dir = [f'{i}frames/' for i in base_day_dir]\n",
    "\n",
    "\n",
    "# get night image directory list (before filename.jpg)\n",
    "base_night_dir = [f'../data/lisa-traffic-light-dataset/nightSequence{i}/nightSequence{i}/' for i in [1,2]]\n",
    "img_night_dir = [f'{i}frames/' for i in base_night_dir]\n",
    "\n",
    "\n",
    "# get annotations csv directory\n",
    "file_list = ['frameAnnotationsBOX.csv','frameAnnotationsBULB.csv']\n",
    "base_image_dir_daytest = [f'../data/lisa-traffic-light-dataset/Annotations/Annotations/daySequence{i}/' for i in [1,2]]\n",
    "base_image_dir_nighttest = [f'../data/lisa-traffic-light-dataset/Annotations/Annotations/nightSequence{i}/' for i in [1,2]]\n",
    "\n",
    "# get image filename.jpg list from annotation csv\n",
    "def get_test_file(path, file):\n",
    "    '''\n",
    "        path = base_image_dir_daytest, base_image_dir_nighttest\n",
    "        file = file_list (START WITH BOX)\n",
    "    '''\n",
    "    file_name = []\n",
    "    file_dir = path + file\n",
    "    df = pd.read_csv(file_dir, delimiter = ';')\n",
    "    for i in range(len(df)):\n",
    "        img = df['Filename'][i].split('/')[1]\n",
    "        file_name.append(img)    \n",
    "      \n",
    "    # return list of 'folder_name -- number.jpg'\n",
    "    return file_name    \n",
    "\n",
    "\n",
    "\n",
    "# load day_image.jpg into test folder\n",
    "for i in range(len(base_day_dir)):\n",
    "\n",
    "        day_image = []\n",
    "\n",
    "        # get image filename\n",
    "        img = get_test_file(base_image_dir_daytest[i], file_list[0])\n",
    "\n",
    "        # import image filename to day_image\n",
    "        for x in img:\n",
    "            day_image.append(x)\n",
    "\n",
    "        # drop duplicate\n",
    "        day_image_set = set(day_image)\n",
    "        day_image = list(day_image_set)\n",
    "\n",
    "        for image in day_image:\n",
    "            src = os.path.join(img_day_dir[i], image)\n",
    "            dst = os.path.join('../data/test', image)\n",
    "            shutil.copyfile(src,dst)\n",
    " \n",
    "    \n",
    "# load night_image.jpg into test folder\n",
    "for i in range(len(base_night_dir)):\n",
    " \n",
    "        night_image = []\n",
    "\n",
    "        # get image filename.jpg\n",
    "        img = get_test_file(base_image_dir_nighttest[i], file_list[0])\n",
    "\n",
    "        # import image filename to night_image\n",
    "        for x in img:\n",
    "            night_image.append(x)\n",
    "\n",
    "        # drop duplicate\n",
    "        night_image_set = set(night_image)\n",
    "        night_image = list(night_image_set)\n",
    "\n",
    "        for image in night_image:\n",
    "            src = os.path.join(img_night_dir[i], image)\n",
    "            dst = os.path.join('../data/test', image)\n",
    "            shutil.copyfile(src,dst)\n"
   ]
  },
  {
   "cell_type": "markdown",
   "metadata": {},
   "source": [
    "## load train annotation"
   ]
  },
  {
   "cell_type": "code",
   "execution_count": 7,
   "metadata": {},
   "outputs": [],
   "source": [
    "file_name = 'frameAnnotationsBOX.csv'\n",
    "path_day = [f'../data/lisa-traffic-light-dataset/Annotations/Annotations/dayTrain/dayClip{i}/' for i in range(1,14)]\n",
    "path_night = [f'../data/lisa-traffic-light-dataset/Annotations/Annotations/nightTrain/nightClip{i}/' for i in range(1,6)]\n",
    "\n",
    "df_day = pd.DataFrame()\n",
    "for i in path_day:\n",
    "    df = pd.read_csv(i + file_name, delimiter = ';')\n",
    "    df_day = pd.concat([df_day, df])\n",
    "\n",
    "df_night = pd.DataFrame()\n",
    "for i in path_night:\n",
    "    df = pd.read_csv(i + file_name, delimiter = ';')\n",
    "    df_night = pd.concat([df_night,df])\n",
    "\n",
    "df_total = pd.concat([df_day,df_night])\n",
    "df_total.to_csv('../data/annotation/train_annotation.csv')"
   ]
  },
  {
   "cell_type": "markdown",
   "metadata": {},
   "source": [
    "## load test annotation"
   ]
  },
  {
   "cell_type": "code",
   "execution_count": 8,
   "metadata": {},
   "outputs": [],
   "source": [
    "file_name = 'frameAnnotationsBOX.csv'\n",
    "path_day = [f'../data/lisa-traffic-light-dataset/Annotations/Annotations/daySequence{i}/' for i in [1,2]]\n",
    "path_night = [f'../data/lisa-traffic-light-dataset/Annotations/Annotations/nightSequence{i}/' for i in [1,2]]\n",
    "\n",
    "df_day = pd.DataFrame()\n",
    "for i in path_day:\n",
    "    df = pd.read_csv(i + file_name, delimiter = ';')\n",
    "    df_day = pd.concat([df_day, df])\n",
    "\n",
    "df_night = pd.DataFrame()\n",
    "for i in path_night:\n",
    "    df = pd.read_csv(i + file_name, delimiter = ';')\n",
    "    df_night = pd.concat([df_night,df])\n",
    "\n",
    "df_total = pd.concat([df_day,df_night])\n",
    "df_total.to_csv('../data/annotation/test_annotation.csv')"
   ]
  },
  {
   "cell_type": "markdown",
   "metadata": {},
   "source": [
    "## remove original folder"
   ]
  },
  {
   "cell_type": "code",
   "execution_count": 9,
   "metadata": {},
   "outputs": [],
   "source": [
    "shutil.rmtree('../data/lisa-traffic-light-dataset')"
   ]
  },
  {
   "cell_type": "code",
   "execution_count": null,
   "metadata": {},
   "outputs": [],
   "source": []
  }
 ],
 "metadata": {
  "kernelspec": {
   "display_name": "Python 3",
   "language": "python",
   "name": "python3"
  },
  "language_info": {
   "codemirror_mode": {
    "name": "ipython",
    "version": 3
   },
   "file_extension": ".py",
   "mimetype": "text/x-python",
   "name": "python",
   "nbconvert_exporter": "python",
   "pygments_lexer": "ipython3",
   "version": "3.7.6"
  }
 },
 "nbformat": 4,
 "nbformat_minor": 4
}
