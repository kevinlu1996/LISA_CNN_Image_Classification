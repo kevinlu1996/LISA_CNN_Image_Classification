{
 "cells": [
  {
   "cell_type": "code",
   "execution_count": 1,
   "metadata": {},
   "outputs": [],
   "source": [
    "import pandas as pd\n",
    "import os\n",
    "import shutil"
   ]
  },
  {
   "cell_type": "code",
   "execution_count": 2,
   "metadata": {},
   "outputs": [],
   "source": [
    "df_train = pd.read_csv('../data/annotation/train_annotation.csv').drop(columns = 'Unnamed: 0')\n",
    "df_test = pd.read_csv('../data/annotation/test_annotation.csv').drop(columns = 'Unnamed: 0')"
   ]
  },
  {
   "cell_type": "markdown",
   "metadata": {},
   "source": [
    "## Annotation EDA"
   ]
  },
  {
   "cell_type": "code",
   "execution_count": 3,
   "metadata": {},
   "outputs": [
    {
     "data": {
      "text/plain": [
       "((51826, 10), (57649, 10))"
      ]
     },
     "execution_count": 3,
     "metadata": {},
     "output_type": "execute_result"
    }
   ],
   "source": [
    "df_train.shape, df_test.shape"
   ]
  },
  {
   "cell_type": "code",
   "execution_count": 4,
   "metadata": {},
   "outputs": [
    {
     "data": {
      "text/plain": [
       "Filename                     0\n",
       "Annotation tag               0\n",
       "Upper left corner X          0\n",
       "Upper left corner Y          0\n",
       "Lower right corner X         0\n",
       "Lower right corner Y         0\n",
       "Origin file                  0\n",
       "Origin frame number          0\n",
       "Origin track                 0\n",
       "Origin track frame number    0\n",
       "dtype: int64"
      ]
     },
     "execution_count": 4,
     "metadata": {},
     "output_type": "execute_result"
    }
   ],
   "source": [
    "df_train.isnull().sum()"
   ]
  },
  {
   "cell_type": "code",
   "execution_count": 5,
   "metadata": {},
   "outputs": [
    {
     "data": {
      "text/plain": [
       "Filename                     0\n",
       "Annotation tag               0\n",
       "Upper left corner X          0\n",
       "Upper left corner Y          0\n",
       "Lower right corner X         0\n",
       "Lower right corner Y         0\n",
       "Origin file                  0\n",
       "Origin frame number          0\n",
       "Origin track                 0\n",
       "Origin track frame number    0\n",
       "dtype: int64"
      ]
     },
     "execution_count": 5,
     "metadata": {},
     "output_type": "execute_result"
    }
   ],
   "source": [
    "df_test.isnull().sum()"
   ]
  },
  {
   "cell_type": "code",
   "execution_count": 6,
   "metadata": {},
   "outputs": [
    {
     "data": {
      "text/plain": [
       "Filename                     object\n",
       "Annotation tag               object\n",
       "Upper left corner X           int64\n",
       "Upper left corner Y           int64\n",
       "Lower right corner X          int64\n",
       "Lower right corner Y          int64\n",
       "Origin file                  object\n",
       "Origin frame number           int64\n",
       "Origin track                 object\n",
       "Origin track frame number     int64\n",
       "dtype: object"
      ]
     },
     "execution_count": 6,
     "metadata": {},
     "output_type": "execute_result"
    }
   ],
   "source": [
    "df_train.dtypes"
   ]
  },
  {
   "cell_type": "code",
   "execution_count": 7,
   "metadata": {},
   "outputs": [
    {
     "data": {
      "text/plain": [
       "Filename                     object\n",
       "Annotation tag               object\n",
       "Upper left corner X           int64\n",
       "Upper left corner Y           int64\n",
       "Lower right corner X          int64\n",
       "Lower right corner Y          int64\n",
       "Origin file                  object\n",
       "Origin frame number           int64\n",
       "Origin track                 object\n",
       "Origin track frame number     int64\n",
       "dtype: object"
      ]
     },
     "execution_count": 7,
     "metadata": {},
     "output_type": "execute_result"
    }
   ],
   "source": [
    "df_test.dtypes"
   ]
  },
  {
   "cell_type": "code",
   "execution_count": 8,
   "metadata": {},
   "outputs": [
    {
     "data": {
      "text/plain": [
       "go             22946\n",
       "stop           18382\n",
       "stopLeft        7707\n",
       "warning         1258\n",
       "goLeft          1236\n",
       "warningLeft      297\n",
       "Name: Annotation tag, dtype: int64"
      ]
     },
     "execution_count": 8,
     "metadata": {},
     "output_type": "execute_result"
    }
   ],
   "source": [
    "df_train['Annotation tag'].value_counts()"
   ]
  },
  {
   "cell_type": "code",
   "execution_count": 9,
   "metadata": {},
   "outputs": [
    {
     "data": {
      "text/plain": [
       "stop           25936\n",
       "go             23777\n",
       "stopLeft        5027\n",
       "warning         1411\n",
       "goLeft          1240\n",
       "goForward        205\n",
       "warningLeft       53\n",
       "Name: Annotation tag, dtype: int64"
      ]
     },
     "execution_count": 9,
     "metadata": {},
     "output_type": "execute_result"
    }
   ],
   "source": [
    "df_test['Annotation tag'].value_counts()"
   ]
  },
  {
   "cell_type": "markdown",
   "metadata": {},
   "source": [
    "## drop goForward: no goForward in train"
   ]
  },
  {
   "cell_type": "code",
   "execution_count": 10,
   "metadata": {},
   "outputs": [],
   "source": [
    "df_test.drop(df_test.loc[df_test['Annotation tag'] == 'goForward'].index, inplace = True)"
   ]
  },
  {
   "cell_type": "code",
   "execution_count": 11,
   "metadata": {},
   "outputs": [
    {
     "data": {
      "text/plain": [
       "stop           25936\n",
       "go             23777\n",
       "stopLeft        5027\n",
       "warning         1411\n",
       "goLeft          1240\n",
       "warningLeft       53\n",
       "Name: Annotation tag, dtype: int64"
      ]
     },
     "execution_count": 11,
     "metadata": {},
     "output_type": "execute_result"
    }
   ],
   "source": [
    "df_test['Annotation tag'].value_counts()"
   ]
  },
  {
   "cell_type": "markdown",
   "metadata": {},
   "source": [
    "## Create tag label"
   ]
  },
  {
   "cell_type": "code",
   "execution_count": 12,
   "metadata": {},
   "outputs": [],
   "source": [
    "# new train, test folder\n",
    "os.mkdir('../data/train_eda')\n",
    "os.mkdir('../data/test_eda')"
   ]
  },
  {
   "cell_type": "code",
   "execution_count": 13,
   "metadata": {},
   "outputs": [],
   "source": [
    "# train label\n",
    "for i in df_train['Annotation tag'].value_counts().index:\n",
    "    os.mkdir(f'../data/train_eda/{i}')"
   ]
  },
  {
   "cell_type": "code",
   "execution_count": 14,
   "metadata": {},
   "outputs": [],
   "source": [
    "# test label \n",
    "for i in df_test['Annotation tag'].value_counts().index:\n",
    "    os.mkdir(f'../data/test_eda/{i}')"
   ]
  },
  {
   "cell_type": "code",
   "execution_count": 17,
   "metadata": {},
   "outputs": [],
   "source": [
    "def get_annotation(df,folder,annotation):\n",
    "    # list_tag: store image name (no directory)\n",
    "    # i is tag name: ex 'go', 'stop'\n",
    "    list_tag = [i.split('/')[1] for i in df.loc[df['Annotation tag'] == annotation]['Filename']]\n",
    "    list_tag_set = set(list_tag)\n",
    "    list_tag = list(list_tag_set)\n",
    "    print (i)\n",
    "    print (list_tag[:20])\n",
    "    \n",
    "    # the new directory we move image into\n",
    "    new_dir = f'../data/{folder}_eda/{annotation}/'\n",
    "    \n",
    "    # the old directory we move image from\n",
    "    img_dir = f'../data/{folder}/'\n",
    "    for img in list_tag:\n",
    "            src = os.path.join(img_dir, img)\n",
    "            dst = os.path.join(new_dir, img)\n",
    "            shutil.copyfile(src,dst)"
   ]
  },
  {
   "cell_type": "code",
   "execution_count": 18,
   "metadata": {},
   "outputs": [
    {
     "name": "stdout",
     "output_type": "stream",
     "text": [
      "go\n",
      "['dayClip11--00250.jpg', 'dayClip7--01900.jpg', 'dayClip13--00654.jpg', 'dayClip1--01684.jpg', 'dayClip5--01650.jpg', 'dayClip1--01628.jpg', 'dayClip5--02215.jpg', 'nightClip2--00351.jpg', 'nightClip2--00185.jpg', 'nightClip2--01086.jpg', 'dayClip7--01760.jpg', 'nightClip5--00318.jpg', 'dayClip7--01953.jpg', 'dayClip1--01881.jpg', 'nightClip4--00149.jpg', 'dayClip7--01874.jpg', 'dayClip3--00592.jpg', 'dayClip10--00001.jpg', 'dayClip1--00177.jpg', 'nightClip2--00024.jpg']\n",
      "stop\n",
      "['dayClip7--00225.jpg', 'dayClip1--00410.jpg', 'dayClip6--00174.jpg', 'dayClip7--00244.jpg', 'dayClip2--00178.jpg', 'nightClip4--00613.jpg', 'dayClip5--00478.jpg', 'dayClip13--00509.jpg', 'nightClip4--00751.jpg', 'dayClip7--01428.jpg', 'dayClip1--00572.jpg', 'dayClip7--01246.jpg', 'dayClip13--00362.jpg', 'dayClip1--00299.jpg', 'nightClip4--00825.jpg', 'dayClip7--00682.jpg', 'dayClip1--01271.jpg', 'dayClip8--00129.jpg', 'dayClip7--01499.jpg', 'dayClip1--00321.jpg']\n",
      "stopLeft\n",
      "['dayClip7--00225.jpg', 'dayClip6--00174.jpg', 'dayClip7--00244.jpg', 'dayClip7--01900.jpg', 'dayClip5--00478.jpg', 'dayClip5--01650.jpg', 'dayClip5--02215.jpg', 'dayClip7--01428.jpg', 'dayClip7--01760.jpg', 'dayClip7--01953.jpg', 'dayClip7--01246.jpg', 'dayClip7--01874.jpg', 'dayClip7--00682.jpg', 'dayClip8--00129.jpg', 'dayClip10--00001.jpg', 'dayClip7--01499.jpg', 'dayClip5--01515.jpg', 'dayClip7--00263.jpg', 'dayClip5--00704.jpg', 'nightClip2--01701.jpg']\n",
      "warning\n",
      "['nightClip4--00579.jpg', 'dayClip5--00034.jpg', 'dayClip7--00129.jpg', 'dayClip13--00163.jpg', 'nightClip2--01647.jpg', 'nightClip5--00422.jpg', 'nightClip5--01082.jpg', 'dayClip5--00112.jpg', 'dayClip13--00193.jpg', 'nightClip5--01093.jpg', 'nightClip2--01651.jpg', 'nightClip4--00545.jpg', 'dayClip5--00080.jpg', 'nightClip2--01678.jpg', 'dayClip5--00109.jpg', 'dayClip13--00195.jpg', 'nightClip5--00446.jpg', 'nightClip4--00593.jpg', 'dayClip13--00181.jpg', 'nightClip5--00447.jpg']\n",
      "goLeft\n",
      "['dayClip5--00028.jpg', 'dayClip9--00932.jpg', 'nightClip2--01918.jpg', 'dayClip2--00117.jpg', 'dayClip2--00178.jpg', 'dayClip2--00100.jpg', 'dayClip5--02620.jpg', 'dayClip7--02640.jpg', 'dayClip8--00631.jpg', 'dayClip8--00624.jpg', 'dayClip5--02554.jpg', 'dayClip2--00094.jpg', 'dayClip9--00926.jpg', 'dayClip7--02617.jpg', 'dayClip8--00645.jpg', 'nightClip3--00160.jpg', 'dayClip7--00094.jpg', 'dayClip5--02605.jpg', 'dayClip9--00881.jpg', 'nightClip2--01990.jpg']\n",
      "warningLeft\n",
      "['dayClip2--00265.jpg', 'dayClip2--00263.jpg', 'dayClip2--00234.jpg', 'dayClip2--00267.jpg', 'dayClip2--00283.jpg', 'dayClip5--00034.jpg', 'dayClip7--00129.jpg', 'dayClip2--00241.jpg', 'dayClip5--00058.jpg', 'dayClip5--00041.jpg', 'dayClip2--00245.jpg', 'dayClip5--00080.jpg', 'dayClip5--00078.jpg', 'nightClip3--00177.jpg', 'dayClip2--00270.jpg', 'dayClip2--00250.jpg', 'dayClip5--00071.jpg', 'dayClip7--00128.jpg', 'dayClip5--00075.jpg', 'dayClip7--00142.jpg']\n"
     ]
    }
   ],
   "source": [
    "# train\n",
    "for i in df_train['Annotation tag'].value_counts().index:\n",
    "    get_annotation(df_train, 'train', i)"
   ]
  },
  {
   "cell_type": "code",
   "execution_count": 19,
   "metadata": {},
   "outputs": [
    {
     "name": "stdout",
     "output_type": "stream",
     "text": [
      "stop\n",
      "['nightSequence1--00648.jpg', 'nightSequence2--02054.jpg', 'nightSequence2--00585.jpg', 'nightSequence1--03346.jpg', 'nightSequence2--00221.jpg', 'nightSequence1--01084.jpg', 'nightSequence2--00129.jpg', 'nightSequence2--01749.jpg', 'nightSequence2--05175.jpg', 'nightSequence1--00554.jpg', 'daySequence1--00108.jpg', 'daySequence1--03489.jpg', 'daySequence1--00829.jpg', 'daySequence1--00183.jpg', 'nightSequence1--01344.jpg', 'nightSequence1--00375.jpg', 'daySequence1--02164.jpg', 'nightSequence2--00130.jpg', 'daySequence2--05734.jpg', 'daySequence2--03792.jpg']\n",
      "go\n",
      "['daySequence1--03052.jpg', 'nightSequence1--04480.jpg', 'daySequence2--02653.jpg', 'nightSequence2--02054.jpg', 'nightSequence2--00585.jpg', 'nightSequence2--02380.jpg', 'nightSequence1--00554.jpg', 'nightSequence2--04382.jpg', 'daySequence1--03400.jpg', 'daySequence1--02936.jpg', 'nightSequence2--05284.jpg', 'nightSequence1--01911.jpg', 'nightSequence1--02524.jpg', 'nightSequence1--04379.jpg', 'nightSequence1--02036.jpg', 'daySequence2--04840.jpg', 'nightSequence2--04379.jpg', 'nightSequence2--04561.jpg', 'nightSequence2--01231.jpg', 'daySequence1--01335.jpg']\n",
      "stopLeft\n",
      "['daySequence2--05118.jpg', 'daySequence2--05581.jpg', 'daySequence2--04955.jpg', 'daySequence2--05440.jpg', 'nightSequence2--00991.jpg', 'daySequence2--05524.jpg', 'nightSequence2--05007.jpg', 'nightSequence2--06480.jpg', 'daySequence2--05504.jpg', 'daySequence2--05937.jpg', 'nightSequence2--01148.jpg', 'nightSequence2--04802.jpg', 'daySequence2--05562.jpg', 'daySequence1--03089.jpg', 'nightSequence2--04683.jpg', 'daySequence2--05151.jpg', 'nightSequence2--01231.jpg', 'daySequence2--06067.jpg', 'nightSequence2--01090.jpg', 'daySequence2--05790.jpg']\n",
      "warning\n",
      "['nightSequence1--02120.jpg', 'nightSequence2--04712.jpg', 'daySequence2--03729.jpg', 'nightSequence2--04698.jpg', 'daySequence1--01943.jpg', 'nightSequence2--04708.jpg', 'nightSequence1--02566.jpg', 'nightSequence1--02695.jpg', 'nightSequence2--04717.jpg', 'daySequence2--03708.jpg', 'nightSequence1--02733.jpg', 'nightSequence2--04713.jpg', 'nightSequence2--00686.jpg', 'nightSequence1--02560.jpg', 'nightSequence2--04733.jpg', 'nightSequence1--02105.jpg', 'nightSequence2--01581.jpg', 'nightSequence2--04745.jpg', 'nightSequence1--00216.jpg', 'daySequence2--05097.jpg']\n",
      "goLeft\n",
      "['nightSequence1--03891.jpg', 'nightSequence1--04065.jpg', 'nightSequence1--03789.jpg', 'daySequence2--02902.jpg', 'nightSequence1--03905.jpg', 'nightSequence1--03939.jpg', 'nightSequence1--03745.jpg', 'nightSequence1--03810.jpg', 'nightSequence2--05175.jpg', 'nightSequence1--03922.jpg', 'nightSequence2--05171.jpg', 'nightSequence1--03913.jpg', 'nightSequence1--04004.jpg', 'nightSequence1--03975.jpg', 'nightSequence1--03996.jpg', 'nightSequence1--03904.jpg', 'daySequence2--02912.jpg', 'daySequence2--02936.jpg', 'nightSequence1--03763.jpg', 'daySequence2--06239.jpg']\n",
      "warningLeft\n",
      "['daySequence1--03052.jpg', 'daySequence1--03040.jpg', 'daySequence1--03027.jpg', 'daySequence1--03043.jpg', 'daySequence1--03064.jpg', 'daySequence1--03077.jpg', 'daySequence1--03060.jpg', 'daySequence1--03054.jpg', 'daySequence1--03049.jpg', 'daySequence1--03053.jpg', 'daySequence1--03070.jpg', 'daySequence1--03055.jpg', 'daySequence1--03051.jpg', 'daySequence1--03044.jpg', 'daySequence1--03059.jpg', 'daySequence1--03067.jpg', 'daySequence1--03056.jpg', 'daySequence1--03069.jpg', 'daySequence1--03073.jpg', 'daySequence1--03031.jpg']\n"
     ]
    }
   ],
   "source": [
    "# test\n",
    "for i in df_test['Annotation tag'].value_counts().index:\n",
    "    get_annotation(df_test, 'test', i)"
   ]
  },
  {
   "cell_type": "markdown",
   "metadata": {},
   "source": [
    "## remove train, test folder"
   ]
  },
  {
   "cell_type": "code",
   "execution_count": 20,
   "metadata": {},
   "outputs": [],
   "source": [
    "shutil.rmtree('../data/train')\n",
    "shutil.rmtree('../data/test')"
   ]
  },
  {
   "cell_type": "code",
   "execution_count": null,
   "metadata": {},
   "outputs": [],
   "source": []
  }
 ],
 "metadata": {
  "kernelspec": {
   "display_name": "Python 3",
   "language": "python",
   "name": "python3"
  },
  "language_info": {
   "codemirror_mode": {
    "name": "ipython",
    "version": 3
   },
   "file_extension": ".py",
   "mimetype": "text/x-python",
   "name": "python",
   "nbconvert_exporter": "python",
   "pygments_lexer": "ipython3",
   "version": "3.7.6"
  }
 },
 "nbformat": 4,
 "nbformat_minor": 4
}
