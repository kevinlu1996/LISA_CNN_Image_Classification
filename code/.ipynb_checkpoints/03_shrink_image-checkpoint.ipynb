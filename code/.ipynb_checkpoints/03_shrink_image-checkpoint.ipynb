{
 "cells": [
  {
   "cell_type": "code",
   "execution_count": 1,
   "metadata": {},
   "outputs": [],
   "source": [
    "import pandas as pd\n",
    "import matplotlib.pyplot as plt\n",
    "import numpy as np\n",
    "import os\n",
    "from PIL import Image\n",
    "import itertools"
   ]
  },
  {
   "cell_type": "code",
   "execution_count": 2,
   "metadata": {},
   "outputs": [],
   "source": [
    "df_train = pd.read_csv('../data/annotation/train_annotation.csv').drop(columns = 'Unnamed: 0')\n",
    "df_test = pd.read_csv('../data/annotation/test_annotation.csv').drop(columns = 'Unnamed: 0')"
   ]
  },
  {
   "cell_type": "code",
   "execution_count": 3,
   "metadata": {
    "scrolled": true
   },
   "outputs": [],
   "source": [
    "# create image name column (no folder name before)\n",
    "df_train['images'] = df_train['Filename'].apply(lambda x: x.split('/')[1])\n",
    "df_test['images'] = df_test['Filename'].apply(lambda x: x.split('/')[1])"
   ]
  },
  {
   "cell_type": "code",
   "execution_count": 4,
   "metadata": {},
   "outputs": [
    {
     "data": {
      "text/html": [
       "<div>\n",
       "<style scoped>\n",
       "    .dataframe tbody tr th:only-of-type {\n",
       "        vertical-align: middle;\n",
       "    }\n",
       "\n",
       "    .dataframe tbody tr th {\n",
       "        vertical-align: top;\n",
       "    }\n",
       "\n",
       "    .dataframe thead th {\n",
       "        text-align: right;\n",
       "    }\n",
       "</style>\n",
       "<table border=\"1\" class=\"dataframe\">\n",
       "  <thead>\n",
       "    <tr style=\"text-align: right;\">\n",
       "      <th></th>\n",
       "      <th>Filename</th>\n",
       "      <th>Annotation tag</th>\n",
       "      <th>Upper left corner X</th>\n",
       "      <th>Upper left corner Y</th>\n",
       "      <th>Lower right corner X</th>\n",
       "      <th>Lower right corner Y</th>\n",
       "      <th>Origin file</th>\n",
       "      <th>Origin frame number</th>\n",
       "      <th>Origin track</th>\n",
       "      <th>Origin track frame number</th>\n",
       "      <th>images</th>\n",
       "    </tr>\n",
       "  </thead>\n",
       "  <tbody>\n",
       "    <tr>\n",
       "      <th>0</th>\n",
       "      <td>dayTest/daySequence1--00000.jpg</td>\n",
       "      <td>stop</td>\n",
       "      <td>706</td>\n",
       "      <td>478</td>\n",
       "      <td>718</td>\n",
       "      <td>500</td>\n",
       "      <td>dayTest/daySequence1/Day1EveningShutter0.00020...</td>\n",
       "      <td>0</td>\n",
       "      <td>dayTest/daySequence1/Day1EveningShutter0.00020...</td>\n",
       "      <td>0</td>\n",
       "      <td>daySequence1--00000.jpg</td>\n",
       "    </tr>\n",
       "    <tr>\n",
       "      <th>1</th>\n",
       "      <td>dayTest/daySequence1--00001.jpg</td>\n",
       "      <td>stop</td>\n",
       "      <td>705</td>\n",
       "      <td>475</td>\n",
       "      <td>720</td>\n",
       "      <td>497</td>\n",
       "      <td>dayTest/daySequence1/Day1EveningShutter0.00020...</td>\n",
       "      <td>1</td>\n",
       "      <td>dayTest/daySequence1/Day1EveningShutter0.00020...</td>\n",
       "      <td>1</td>\n",
       "      <td>daySequence1--00001.jpg</td>\n",
       "    </tr>\n",
       "    <tr>\n",
       "      <th>2</th>\n",
       "      <td>dayTest/daySequence1--00002.jpg</td>\n",
       "      <td>stop</td>\n",
       "      <td>707</td>\n",
       "      <td>476</td>\n",
       "      <td>719</td>\n",
       "      <td>494</td>\n",
       "      <td>dayTest/daySequence1/Day1EveningShutter0.00020...</td>\n",
       "      <td>2</td>\n",
       "      <td>dayTest/daySequence1/Day1EveningShutter0.00020...</td>\n",
       "      <td>2</td>\n",
       "      <td>daySequence1--00002.jpg</td>\n",
       "    </tr>\n",
       "    <tr>\n",
       "      <th>3</th>\n",
       "      <td>dayTest/daySequence1--00005.jpg</td>\n",
       "      <td>stop</td>\n",
       "      <td>708</td>\n",
       "      <td>474</td>\n",
       "      <td>720</td>\n",
       "      <td>492</td>\n",
       "      <td>dayTest/daySequence1/Day1EveningShutter0.00020...</td>\n",
       "      <td>5</td>\n",
       "      <td>dayTest/daySequence1/Day1EveningShutter0.00020...</td>\n",
       "      <td>5</td>\n",
       "      <td>daySequence1--00005.jpg</td>\n",
       "    </tr>\n",
       "    <tr>\n",
       "      <th>4</th>\n",
       "      <td>dayTest/daySequence1--00006.jpg</td>\n",
       "      <td>stop</td>\n",
       "      <td>707</td>\n",
       "      <td>470</td>\n",
       "      <td>722</td>\n",
       "      <td>492</td>\n",
       "      <td>dayTest/daySequence1/Day1EveningShutter0.00020...</td>\n",
       "      <td>6</td>\n",
       "      <td>dayTest/daySequence1/Day1EveningShutter0.00020...</td>\n",
       "      <td>6</td>\n",
       "      <td>daySequence1--00006.jpg</td>\n",
       "    </tr>\n",
       "  </tbody>\n",
       "</table>\n",
       "</div>"
      ],
      "text/plain": [
       "                          Filename Annotation tag  Upper left corner X  \\\n",
       "0  dayTest/daySequence1--00000.jpg           stop                  706   \n",
       "1  dayTest/daySequence1--00001.jpg           stop                  705   \n",
       "2  dayTest/daySequence1--00002.jpg           stop                  707   \n",
       "3  dayTest/daySequence1--00005.jpg           stop                  708   \n",
       "4  dayTest/daySequence1--00006.jpg           stop                  707   \n",
       "\n",
       "   Upper left corner Y  Lower right corner X  Lower right corner Y  \\\n",
       "0                  478                   718                   500   \n",
       "1                  475                   720                   497   \n",
       "2                  476                   719                   494   \n",
       "3                  474                   720                   492   \n",
       "4                  470                   722                   492   \n",
       "\n",
       "                                         Origin file  Origin frame number  \\\n",
       "0  dayTest/daySequence1/Day1EveningShutter0.00020...                    0   \n",
       "1  dayTest/daySequence1/Day1EveningShutter0.00020...                    1   \n",
       "2  dayTest/daySequence1/Day1EveningShutter0.00020...                    2   \n",
       "3  dayTest/daySequence1/Day1EveningShutter0.00020...                    5   \n",
       "4  dayTest/daySequence1/Day1EveningShutter0.00020...                    6   \n",
       "\n",
       "                                        Origin track  \\\n",
       "0  dayTest/daySequence1/Day1EveningShutter0.00020...   \n",
       "1  dayTest/daySequence1/Day1EveningShutter0.00020...   \n",
       "2  dayTest/daySequence1/Day1EveningShutter0.00020...   \n",
       "3  dayTest/daySequence1/Day1EveningShutter0.00020...   \n",
       "4  dayTest/daySequence1/Day1EveningShutter0.00020...   \n",
       "\n",
       "   Origin track frame number                   images  \n",
       "0                          0  daySequence1--00000.jpg  \n",
       "1                          1  daySequence1--00001.jpg  \n",
       "2                          2  daySequence1--00002.jpg  \n",
       "3                          5  daySequence1--00005.jpg  \n",
       "4                          6  daySequence1--00006.jpg  "
      ]
     },
     "execution_count": 4,
     "metadata": {},
     "output_type": "execute_result"
    }
   ],
   "source": [
    "df_test.head()"
   ]
  },
  {
   "cell_type": "code",
   "execution_count": 12,
   "metadata": {},
   "outputs": [],
   "source": [
    "# new train folder\n",
    "# os.mkdir('../data/new_train')\n",
    "\n",
    "def shrink_image(annotation):\n",
    "   \n",
    "   \n",
    "    # get old image directory with 1 annotation in a list from train_eda\n",
    "    # output format: ../data/..../imagename.jpg\n",
    "    direct = [f'../data/train_eda/{annotation}/{image}' \\\n",
    "              for image in df_train.loc[df_train['Annotation tag'] == annotation]['images']]\n",
    "    direct_set = set(direct)\n",
    "    direct = list(direct_set)\n",
    "    \n",
    "    \n",
    "    # get all x,y coordinate\n",
    "    # output format: dictionary  {image full directory: [coordinate, coordinate...]}\n",
    "    y1 = {}\n",
    "    for i in direct:\n",
    "        y = list(df_train.loc[df_train['images'] == i.split('/')[4]]['Upper left corner Y'])\n",
    "        y1[i] = y\n",
    "    y2 = {}\n",
    "    for i in direct:\n",
    "        y = list(df_train.loc[df_train['images'] == i.split('/')[4]]['Lower right corner Y'])\n",
    "        y2[i] = y\n",
    "    x1 = {}\n",
    "    for i in direct:\n",
    "        x = list(df_train.loc[df_train['images'] == i.split('/')[4]]['Upper left corner X'])\n",
    "        x1[i] = x\n",
    "    x2 = {}\n",
    "    for i in direct:\n",
    "        x = list(df_train.loc[df_train['images'] == i.split('/')[4]]['Lower right corner X'])\n",
    "        x2[i] = x\n",
    "    \n",
    "    \n",
    "    # get all images in np.array\n",
    "    # i is image full directory\n",
    "    # i[y1:y2, x1:x2]\n",
    "    imgs = []\n",
    "    for i in x1:\n",
    "        for j in range(len(x1[i])):\n",
    "            img = plt.imread(i)[y1[i][j]:y2[i][j] , x1[i][j]:x2[i][j]]\n",
    "            imgs.append(img)\n",
    "    \n",
    "    # create new directory\n",
    "    os.mkdir(f'../data/new_train/{annotation}')\n",
    "    \n",
    "    # move image to directory\n",
    "    for i,image in enumerate(imgs):\n",
    "        im = Image.fromarray(image)\n",
    "        im.save(f'../data/new_train/{annotation}/{i}.jpg')\n",
    "    "
   ]
  },
  {
   "cell_type": "code",
   "execution_count": 6,
   "metadata": {},
   "outputs": [],
   "source": [
    "shrink_image('go')\n",
    "\n",
    "shrink_image('stop')\n",
    "\n",
    "shrink_image('stopLeft')\n",
    "\n",
    "shrink_image('goLeft')\n",
    "\n",
    "shrink_image('warningLeft')\n",
    "\n",
    "shrink_image('warning')"
   ]
  },
  {
   "cell_type": "code",
   "execution_count": 4,
   "metadata": {},
   "outputs": [],
   "source": [
    "# new test folder\n",
    "# os.mkdir('../data/new_test')\n",
    "\n",
    "def shrink_image_test(annotation):\n",
    "   \n",
    "   \n",
    "    # get old image directory with 1 annotation in a list from train_eda\n",
    "    # output format: ../data/..../imagename.jpg\n",
    "    direct = [f'../data/test_eda/{annotation}/{image}' \\\n",
    "              for image in df_test.loc[df_test['Annotation tag'] == annotation]['images']]\n",
    "    direct_set = set(direct)\n",
    "    direct = list(direct_set)\n",
    "    \n",
    "    \n",
    "    # get all x,y coordinate\n",
    "    # output format: dictionary  {image full directory: [coordinate, coordinate...]}\n",
    "    y1 = {}\n",
    "    for i in direct:\n",
    "        y = list(df_test.loc[df_test['images'] == i.split('/')[4]]['Upper left corner Y'])\n",
    "        y1[i] = y\n",
    "    y2 = {}\n",
    "    for i in direct:\n",
    "        y = list(df_test.loc[df_test['images'] == i.split('/')[4]]['Lower right corner Y'])\n",
    "        y2[i] = y\n",
    "    x1 = {}\n",
    "    for i in direct:\n",
    "        x = list(df_test.loc[df_test['images'] == i.split('/')[4]]['Upper left corner X'])\n",
    "        x1[i] = x\n",
    "    x2 = {}\n",
    "    for i in direct:\n",
    "        x = list(df_test.loc[df_test['images'] == i.split('/')[4]]['Lower right corner X'])\n",
    "        x2[i] = x\n",
    "    \n",
    "    \n",
    "    # get all images in np.array\n",
    "    # i is image full directory\n",
    "    # i[y1:y2, x1:x2]\n",
    "    imgs = []\n",
    "    for i in x1:\n",
    "        for j in range(len(x1[i])):\n",
    "            img = plt.imread(i)[y1[i][j]:y2[i][j] , x1[i][j]:x2[i][j]]\n",
    "            imgs.append(img)\n",
    "    \n",
    "    # create new directory\n",
    "    os.mkdir(f'../data/new_test/{annotation}')\n",
    "    \n",
    "    # move image to directory\n",
    "    for i,image in enumerate(imgs):\n",
    "        im = Image.fromarray(image)\n",
    "        im.save(f'../data/new_test/{annotation}/{i}.jpg')\n",
    "    "
   ]
  },
  {
   "cell_type": "code",
   "execution_count": null,
   "metadata": {},
   "outputs": [],
   "source": [
    "shrink_image_test('go')\n",
    "\n",
    "# kills the kernal\n",
    "#shrink_image_test('stop')\n",
    "\n",
    "shrink_image_test('stopLeft')\n",
    "\n",
    "shrink_image_test('goLeft')\n",
    "\n",
    "shrink_image_test('warningLeft')\n",
    "\n",
    "shrink_image_test('warning')"
   ]
  },
  {
   "cell_type": "code",
   "execution_count": null,
   "metadata": {},
   "outputs": [],
   "source": [
    "# kills the kernal\n",
    "#shrink_image_test('stop')"
   ]
  },
  {
   "cell_type": "code",
   "execution_count": 5,
   "metadata": {},
   "outputs": [],
   "source": [
    "shrink_image_test('stopLeft')"
   ]
  },
  {
   "cell_type": "code",
   "execution_count": 6,
   "metadata": {},
   "outputs": [],
   "source": [
    "shrink_image_test('goLeft')\n",
    "\n",
    "shrink_image_test('warningLeft')\n",
    "\n",
    "shrink_image_test('warning')"
   ]
  },
  {
   "cell_type": "code",
   "execution_count": 5,
   "metadata": {},
   "outputs": [
    {
     "data": {
      "text/plain": [
       "9943"
      ]
     },
     "execution_count": 5,
     "metadata": {},
     "output_type": "execute_result"
    }
   ],
   "source": [
    "# for stop in test\n",
    "# get old image directory with 1 annotation in a list from train_eda\n",
    "# output format: ../data/..../imagename.jpg\n",
    "direct = [f'../data/test_eda/stop/{image}' \\\n",
    "          for image in df_test.loc[df_test['Annotation tag'] == 'stop']['images']]\n",
    "direct_set = set(direct)\n",
    "direct = list(direct_set)\n",
    "len(direct)"
   ]
  },
  {
   "cell_type": "code",
   "execution_count": 6,
   "metadata": {},
   "outputs": [],
   "source": [
    "# get all x,y coordinate\n",
    "# output format: dictionary  {image full directory: [coordinate, coordinate...]}\n",
    "y1 = {}\n",
    "for i in direct:\n",
    "    y = list(df_test.loc[df_test['images'] == i.split('/')[4]]['Upper left corner Y'])\n",
    "    y1[i] = y"
   ]
  },
  {
   "cell_type": "code",
   "execution_count": 7,
   "metadata": {},
   "outputs": [],
   "source": [
    "y2 = {}\n",
    "for i in direct:\n",
    "    y = list(df_test.loc[df_test['images'] == i.split('/')[4]]['Lower right corner Y'])\n",
    "    y2[i] = y"
   ]
  },
  {
   "cell_type": "code",
   "execution_count": 8,
   "metadata": {},
   "outputs": [],
   "source": [
    "x1 = {}\n",
    "for i in direct:\n",
    "    x = list(df_test.loc[df_test['images'] == i.split('/')[4]]['Upper left corner X'])\n",
    "    x1[i] = x"
   ]
  },
  {
   "cell_type": "code",
   "execution_count": 9,
   "metadata": {},
   "outputs": [],
   "source": [
    "x2 = {}\n",
    "for i in direct:\n",
    "    x = list(df_test.loc[df_test['images'] == i.split('/')[4]]['Lower right corner X'])\n",
    "    x2[i] = x"
   ]
  },
  {
   "cell_type": "code",
   "execution_count": 10,
   "metadata": {},
   "outputs": [
    {
     "data": {
      "text/plain": [
       "(9943, 9943)"
      ]
     },
     "execution_count": 10,
     "metadata": {},
     "output_type": "execute_result"
    }
   ],
   "source": [
    "len(y1),len(y2)"
   ]
  },
  {
   "cell_type": "code",
   "execution_count": 11,
   "metadata": {},
   "outputs": [
    {
     "data": {
      "text/plain": [
       "(9943, 9943)"
      ]
     },
     "execution_count": 11,
     "metadata": {},
     "output_type": "execute_result"
    }
   ],
   "source": [
    "len(x1),len(x2)"
   ]
  },
  {
   "cell_type": "code",
   "execution_count": 17,
   "metadata": {},
   "outputs": [],
   "source": [
    "# create new directory\n",
    "#os.mkdir(f'../data/new_test/stop')\n"
   ]
  },
  {
   "cell_type": "code",
   "execution_count": 12,
   "metadata": {},
   "outputs": [],
   "source": [
    "# get all images in np.array\n",
    "# separate stop into 2 groups\n",
    "out1 = dict(itertools.islice(x1.items(), 5000))\n",
    "out2 = dict(list(x1.items())[5001: 6000])\n",
    "out3 = dict(list(x1.items())[6001: 7000])\n",
    "out4 = dict(list(x1.items())[7001: 8000])\n",
    "# out5 = dict(list(x1.items())[8001: 9000])        kills kernal\n",
    "# out6 = dict(list(x1.items())[9001: 9943])        kills kernal"
   ]
  },
  {
   "cell_type": "code",
   "execution_count": 13,
   "metadata": {},
   "outputs": [],
   "source": [
    "# i is image full directory\n",
    "# i[y1:y2, x1:x2]\n",
    "# import first 5000\n",
    "imgs = []\n",
    "for i in out1:\n",
    "    for j in range(len(out1[i])):\n",
    "        img = plt.imread(i)[y1[i][j]:y2[i][j] , x1[i][j]:x2[i][j]]\n",
    "        imgs.append(img)\n",
    "\n",
    "for i,image in enumerate(imgs):\n",
    "    im = Image.fromarray(image)\n",
    "    im.save(f'../data/new_test/stop/{i}_1.jpg')"
   ]
  },
  {
   "cell_type": "code",
   "execution_count": 14,
   "metadata": {},
   "outputs": [],
   "source": [
    "imgs = []\n",
    "for i in out2:\n",
    "    for j in range(len(out2[i])):\n",
    "        img = plt.imread(i)[y1[i][j]:y2[i][j] , x1[i][j]:x2[i][j]]\n",
    "        imgs.append(img)\n",
    "\n",
    "for i,image in enumerate(imgs):\n",
    "    im = Image.fromarray(image)\n",
    "    im.save(f'../data/new_test/stop/{i}_2.jpg')"
   ]
  },
  {
   "cell_type": "code",
   "execution_count": 15,
   "metadata": {},
   "outputs": [],
   "source": [
    "imgs = []\n",
    "for i in out3:\n",
    "    for j in range(len(out3[i])):\n",
    "        img = plt.imread(i)[y1[i][j]:y2[i][j] , x1[i][j]:x2[i][j]]\n",
    "        imgs.append(img)\n",
    "\n",
    "for i,image in enumerate(imgs):\n",
    "    im = Image.fromarray(image)\n",
    "    im.save(f'../data/new_test/stop/{i}_3.jpg')"
   ]
  },
  {
   "cell_type": "code",
   "execution_count": 16,
   "metadata": {},
   "outputs": [],
   "source": [
    "imgs = []\n",
    "for i in out4:\n",
    "    for j in range(len(out4[i])):\n",
    "        img = plt.imread(i)[y1[i][j]:y2[i][j] , x1[i][j]:x2[i][j]]\n",
    "        imgs.append(img)\n",
    "\n",
    "for i,image in enumerate(imgs):\n",
    "    im = Image.fromarray(image)\n",
    "    im.save(f'../data/new_test/stop/{i}_4.jpg')"
   ]
  },
  {
   "cell_type": "code",
   "execution_count": null,
   "metadata": {},
   "outputs": [],
   "source": [
    "out5 = dict(list(x1.items())[8001: 9000])\n",
    "out5_1 = dict(list(x1.items())[8001: 8501])\n",
    "out5_2 = dict(list(x1.items())[8001: 8501])\n"
   ]
  },
  {
   "cell_type": "code",
   "execution_count": null,
   "metadata": {},
   "outputs": [],
   "source": [
    "imgs = []\n",
    "for i in out5_1:\n",
    "    for j in range(len(out5_1[i])):\n",
    "        img = plt.imread(i)[y1[i][j]:y2[i][j] , x1[i][j]:x2[i][j]]\n",
    "        imgs.append(img)\n",
    "for i,image in enumerate(imgs):\n",
    "    im = Image.fromarray(image)\n",
    "    im.save(f'../data/new_test/stop/{i}_5_1.jpg')"
   ]
  },
  {
   "cell_type": "code",
   "execution_count": null,
   "metadata": {},
   "outputs": [],
   "source": [
    "imgs = []\n",
    "for i in out5_2:\n",
    "    for j in range(len(out5_2[i])):\n",
    "        img = plt.imread(i)[y1[i][j]:y2[i][j] , x1[i][j]:x2[i][j]]\n",
    "        imgs.append(img)\n",
    "for i,image in enumerate(imgs):\n",
    "    im = Image.fromarray(image)\n",
    "    im.save(f'../data/new_test/stop/{i}_5_2.jpg')"
   ]
  },
  {
   "cell_type": "code",
   "execution_count": null,
   "metadata": {},
   "outputs": [],
   "source": [
    "out6 = dict(list(x1.items())[9001: 9943])\n",
    "out6_1 = dict(list(x1.items())[9001: 9501])\n",
    "out6_2 = dict(list(x1.items())[9501: 9944])"
   ]
  },
  {
   "cell_type": "code",
   "execution_count": null,
   "metadata": {},
   "outputs": [],
   "source": [
    "for i in out6_1:\n",
    "    for j in range(len(out6_1[i])):\n",
    "        img = plt.imread(i)[y1[i][j]:y2[i][j] , x1[i][j]:x2[i][j]]\n",
    "        imgs.append(img)\n",
    "\n",
    "for i,image in enumerate(imgs):\n",
    "    im = Image.fromarray(image)\n",
    "    im.save(f'../data/new_test/stop/{i}_6_1.jpg')"
   ]
  },
  {
   "cell_type": "code",
   "execution_count": null,
   "metadata": {},
   "outputs": [],
   "source": [
    "for i in out6_2:\n",
    "    for j in range(len(out6_2[i])):\n",
    "        img = plt.imread(i)[y1[i][j]:y2[i][j] , x1[i][j]:x2[i][j]]\n",
    "        imgs.append(img)\n",
    "\n",
    "for i,image in enumerate(imgs):\n",
    "    im = Image.fromarray(image)\n",
    "    im.save(f'../data/new_test/stop/{i}_6_2.jpg')"
   ]
  }
 ],
 "metadata": {
  "kernelspec": {
   "display_name": "Python 3",
   "language": "python",
   "name": "python3"
  },
  "language_info": {
   "codemirror_mode": {
    "name": "ipython",
    "version": 3
   },
   "file_extension": ".py",
   "mimetype": "text/x-python",
   "name": "python",
   "nbconvert_exporter": "python",
   "pygments_lexer": "ipython3",
   "version": "3.7.6"
  }
 },
 "nbformat": 4,
 "nbformat_minor": 4
}
