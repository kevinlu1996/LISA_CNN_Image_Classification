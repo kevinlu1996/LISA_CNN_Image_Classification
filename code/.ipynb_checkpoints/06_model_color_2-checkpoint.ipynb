{
 "cells": [
  {
   "cell_type": "code",
   "execution_count": 1,
   "metadata": {},
   "outputs": [
    {
     "name": "stderr",
     "output_type": "stream",
     "text": [
      "Using TensorFlow backend.\n"
     ]
    }
   ],
   "source": [
    "import pandas as pd\n",
    "import numpy as np\n",
    "import matplotlib.pyplot as plt\n",
    "import keras.backend as k\n",
    "\n",
    "from sklearn.model_selection import train_test_split\n",
    "from sklearn.metrics import confusion_matrix, classification_report\n",
    "from tensorflow.keras import optimizers, regularizers\n",
    "from tensorflow.keras.models import Sequential\n",
    "from tensorflow.keras.layers import Dense, Dropout, Flatten, ZeroPadding2D, Input, Conv2D, MaxPool2D\n",
    "from keras.layers.normalization import BatchNormalization\n",
    "from tensorflow.keras.preprocessing.image import ImageDataGenerator\n",
    "from tensorflow.keras.callbacks import EarlyStopping, ReduceLROnPlateau, ModelCheckpoint\n"
   ]
  },
  {
   "cell_type": "code",
   "execution_count": 2,
   "metadata": {},
   "outputs": [],
   "source": [
    "df_test = pd.read_csv('../data/annotation/test_annotation.csv').drop(columns = 'Unnamed: 0')\n",
    "df_train = pd.read_csv('../data/annotation/train_annotation.csv').drop(columns = 'Unnamed: 0')"
   ]
  },
  {
   "cell_type": "code",
   "execution_count": 3,
   "metadata": {},
   "outputs": [],
   "source": [
    "df_train['images'] = df_train['Filename'].apply(lambda x: x.split('/')[1])\n",
    "df_test['images'] = df_test['Filename'].apply(lambda x: x.split('/')[1])"
   ]
  },
  {
   "cell_type": "code",
   "execution_count": 4,
   "metadata": {},
   "outputs": [],
   "source": [
    "df_train['image_flow'] = df_train['Annotation tag'] + '/' + df_train['images']\n",
    "df_test['image_flow'] = df_test['Annotation tag'] + '/' + df_test['images']"
   ]
  },
  {
   "cell_type": "code",
   "execution_count": 5,
   "metadata": {},
   "outputs": [
    {
     "name": "stderr",
     "output_type": "stream",
     "text": [
      "/Users/kevinlu/anaconda3/envs/dsi/lib/python3.7/site-packages/ipykernel_launcher.py:3: SettingWithCopyWarning: \n",
      "A value is trying to be set on a copy of a slice from a DataFrame\n",
      "\n",
      "See the caveats in the documentation: https://pandas.pydata.org/pandas-docs/stable/user_guide/indexing.html#returning-a-view-versus-a-copy\n",
      "  This is separate from the ipykernel package so we can avoid doing imports until\n"
     ]
    }
   ],
   "source": [
    "# create new df_test with no duplicates\n",
    "df_test_flow = df_test[['Annotation tag','image_flow']]\n",
    "df_test_flow.drop_duplicates(inplace = True)"
   ]
  },
  {
   "cell_type": "code",
   "execution_count": 6,
   "metadata": {
    "scrolled": true
   },
   "outputs": [
    {
     "data": {
      "text/plain": [
       "go             0.442751\n",
       "stop           0.354687\n",
       "stopLeft       0.148709\n",
       "warning        0.024274\n",
       "goLeft         0.023849\n",
       "warningLeft    0.005731\n",
       "Name: Annotation tag, dtype: float64"
      ]
     },
     "execution_count": 6,
     "metadata": {},
     "output_type": "execute_result"
    }
   ],
   "source": [
    "df_train['Annotation tag'].value_counts(normalize = True)"
   ]
  },
  {
   "cell_type": "code",
   "execution_count": 7,
   "metadata": {},
   "outputs": [
    {
     "data": {
      "text/plain": [
       "stop           0.449895\n",
       "go             0.412444\n",
       "stopLeft       0.087200\n",
       "warning        0.024476\n",
       "goLeft         0.021509\n",
       "goForward      0.003556\n",
       "warningLeft    0.000919\n",
       "Name: Annotation tag, dtype: float64"
      ]
     },
     "execution_count": 7,
     "metadata": {},
     "output_type": "execute_result"
    }
   ],
   "source": [
    "df_test['Annotation tag'].value_counts(normalize = True)"
   ]
  },
  {
   "cell_type": "markdown",
   "metadata": {},
   "source": [
    "## Train/Test Data Structure"
   ]
  },
  {
   "cell_type": "code",
   "execution_count": 8,
   "metadata": {},
   "outputs": [],
   "source": [
    "train = ImageDataGenerator(         \n",
    "    width_shift_range = 0.2,      # shift horizontal by 0.2\n",
    "    height_shift_range = 0.2,     # shift vertical by 0.2\n",
    "    shear_range = 0.2,\n",
    "    zoom_range = 0.2,             # zoom in by 0.2\n",
    "    rescale = 1./255,\n",
    "    fill_mode = 'nearest'\n",
    ") \n",
    "\n",
    "test = ImageDataGenerator(\n",
    "    rescale = 1./255\n",
    ")"
   ]
  },
  {
   "cell_type": "code",
   "execution_count": 9,
   "metadata": {},
   "outputs": [],
   "source": [
    "# from dataframe (annotation)\n",
    "# test_generator = test.flow_from_dataframe(\n",
    "#             dataframe=df_test_flow, \n",
    "#             directory=\"../data/test_eda/\", \n",
    "#             x_col='image_flow', \n",
    "#             y_col= 'Annotation tag', \n",
    "#             class_mode=\"categorical\", \n",
    "#             target_size=(128,128),     # check docs\n",
    "#             batch_size= 32    #increase \n",
    "# )"
   ]
  },
  {
   "cell_type": "code",
   "execution_count": 10,
   "metadata": {},
   "outputs": [
    {
     "name": "stdout",
     "output_type": "stream",
     "text": [
      "Found 53105 images belonging to 2 classes.\n",
      "Found 69623 images belonging to 2 classes.\n"
     ]
    }
   ],
   "source": [
    "# from directory\n",
    "train_data = train.flow_from_directory(\n",
    "    '../data/color_train/',\n",
    "    target_size = (64,64),               # image size __ x __\n",
    "    batch_size = 64,                       # each model run ___ images\n",
    "    class_mode = 'binary'\n",
    ")\n",
    "\n",
    "test_data = test.flow_from_directory(\n",
    "    '../data/color_test/',\n",
    "    target_size = (64,64),\n",
    "    batch_size = 64,\n",
    "    class_mode = 'binary'\n",
    ")"
   ]
  },
  {
   "cell_type": "code",
   "execution_count": 11,
   "metadata": {},
   "outputs": [
    {
     "data": {
      "text/plain": [
       "{0: 1.801098230628432, 1: 2.2482863670982485}"
      ]
     },
     "execution_count": 11,
     "metadata": {},
     "output_type": "execute_result"
    }
   ],
   "source": [
    "# create class weight\n",
    "label_count = {}\n",
    "tags = ['go','stop']\n",
    "\n",
    "for tag in tags:\n",
    "    label_count[tag] = len(df_train[df_train['Annotation tag'] == tag])\n",
    "\n",
    "total_count = sum(label_count.values())\n",
    "\n",
    "class_weight = {label:total_count/count for label,count in enumerate(label_count.values())}\n",
    "class_weight"
   ]
  },
  {
   "cell_type": "code",
   "execution_count": 12,
   "metadata": {},
   "outputs": [],
   "source": [
    "batch_size = 64\n",
    "num_of_test_sample = 69623"
   ]
  },
  {
   "cell_type": "markdown",
   "metadata": {},
   "source": [
    "## Model"
   ]
  },
  {
   "cell_type": "code",
   "execution_count": 22,
   "metadata": {},
   "outputs": [
    {
     "name": "stdout",
     "output_type": "stream",
     "text": [
      "_________________________________________________________________\n",
      "Layer (type)                 Output Shape              Param #   \n",
      "=================================================================\n",
      "conv2d_3 (Conv2D)            (None, 64, 64, 40)        160       \n",
      "_________________________________________________________________\n",
      "max_pooling2d_3 (MaxPooling2 (None, 32, 32, 40)        0         \n",
      "_________________________________________________________________\n",
      "conv2d_4 (Conv2D)            (None, 31, 31, 20)        3220      \n",
      "_________________________________________________________________\n",
      "max_pooling2d_4 (MaxPooling2 (None, 15, 15, 20)        0         \n",
      "_________________________________________________________________\n",
      "conv2d_5 (Conv2D)            (None, 14, 14, 10)        810       \n",
      "_________________________________________________________________\n",
      "max_pooling2d_5 (MaxPooling2 (None, 7, 7, 10)          0         \n",
      "_________________________________________________________________\n",
      "flatten_1 (Flatten)          (None, 490)               0         \n",
      "_________________________________________________________________\n",
      "dense_3 (Dense)              (None, 16)                7856      \n",
      "_________________________________________________________________\n",
      "dropout_2 (Dropout)          (None, 16)                0         \n",
      "_________________________________________________________________\n",
      "dense_4 (Dense)              (None, 16)                272       \n",
      "_________________________________________________________________\n",
      "dropout_3 (Dropout)          (None, 16)                0         \n",
      "_________________________________________________________________\n",
      "dense_5 (Dense)              (None, 8)                 136       \n",
      "_________________________________________________________________\n",
      "dense_6 (Dense)              (None, 1)                 9         \n",
      "=================================================================\n",
      "Total params: 12,463\n",
      "Trainable params: 12,463\n",
      "Non-trainable params: 0\n",
      "_________________________________________________________________\n",
      "Epoch 1/15\n",
      "1088/1088 [==============================] - 153s 140ms/step - loss: 0.5802 - acc: 0.8142\n",
      "830/830 [==============================] - 426s 513ms/step - loss: 0.5307 - acc: 0.8598 - val_loss: 0.5802 - val_acc: 0.8142\n",
      "Epoch 2/15\n",
      "1088/1088 [==============================] - 149s 137ms/step - loss: 0.5138 - acc: 0.8399\n",
      "830/830 [==============================] - 408s 491ms/step - loss: 0.3387 - acc: 0.8826 - val_loss: 0.5138 - val_acc: 0.8399\n",
      "Epoch 3/15\n",
      "1088/1088 [==============================] - 143s 132ms/step - loss: 0.5259 - acc: 0.8426\n",
      "830/830 [==============================] - 398s 479ms/step - loss: 0.3263 - acc: 0.8839 - val_loss: 0.5259 - val_acc: 0.8426\n",
      "Epoch 4/15\n",
      "1088/1088 [==============================] - 143s 132ms/step - loss: 0.5588 - acc: 0.8342\n",
      "830/830 [==============================] - 398s 480ms/step - loss: 0.3215 - acc: 0.8845 - val_loss: 0.5588 - val_acc: 0.8342\n",
      "Epoch 5/15\n",
      "1088/1088 [==============================] - 147s 135ms/step - loss: 0.5368 - acc: 0.8408\n",
      "830/830 [==============================] - 400s 482ms/step - loss: 0.3170 - acc: 0.8860 - val_loss: 0.5368 - val_acc: 0.8408\n"
     ]
    }
   ],
   "source": [
    "# Model\n",
    "model = Sequential()\n",
    "\n",
    "model.add(Conv2D(filters = 40,\n",
    "                 kernel_size = (1,1),\n",
    "                 activation = 'relu',\n",
    "                 input_shape = (64,64,3)))\n",
    "model.add(MaxPool2D(pool_size = (2,2)))\n",
    "\n",
    "\n",
    "model.add(Conv2D(20,\n",
    "                 kernel_size = (2,2),\n",
    "                 kernel_regularizer = regularizers.l2(0.05),\n",
    "                 activation = 'relu'))\n",
    "model.add(MaxPool2D(pool_size = (2,2)))\n",
    "\n",
    "model.add(Conv2D(10,\n",
    "                 kernel_size = (2,2),\n",
    "                 kernel_regularizer = regularizers.l2(0.05),\n",
    "                 activation = 'relu'))\n",
    "model.add(MaxPool2D(pool_size = (2,2)))\n",
    "\n",
    "\n",
    "\n",
    "model.add(Flatten())\n",
    "model.add(Dense(16,\n",
    "                activation = 'relu'))\n",
    "model.add(Dropout(0.3))\n",
    "\n",
    "model.add(Dense(16,\n",
    "                activation = 'relu'))\n",
    "model.add(Dropout(0.2))\n",
    "\n",
    "model.add(Dense(8,\n",
    "                activation = 'relu'))\n",
    "# model.add(Dropout(0.1))\n",
    "\n",
    "# callbacks\n",
    "es = EarlyStopping(\n",
    "    monitor=\"val_loss\",\n",
    "    min_delta=0,\n",
    "    patience=3,\n",
    "    restore_best_weights = True\n",
    ")\n",
    "\n",
    "rp = ReduceLROnPlateau(factor = 0.01,\n",
    "                       patience = 2)\n",
    "\n",
    "callbacks = [es, rp]\n",
    "\n",
    "# output\n",
    "model.add(Dense(1,\n",
    "                activation = 'sigmoid'))\n",
    "\n",
    "\n",
    "# compile\n",
    "model.compile(loss = 'binary_crossentropy',\n",
    "              optimizer = 'adam',\n",
    "              metrics = ['acc'])\n",
    "\n",
    "model.summary()\n",
    "\n",
    "\n",
    "history = model.fit_generator(train_data,\n",
    "                              epochs = 15,\n",
    "                              validation_data = test_data,\n",
    "                              callbacks = callbacks,\n",
    "                              class_weight= class_weight,\n",
    "                              verbose = 1 )"
   ]
  },
  {
   "cell_type": "code",
   "execution_count": 23,
   "metadata": {},
   "outputs": [
    {
     "name": "stdout",
     "output_type": "stream",
     "text": [
      "1088/1088 [==============================] - 148s 136ms/step\n"
     ]
    },
    {
     "data": {
      "text/plain": [
       "array([38782])"
      ]
     },
     "execution_count": 23,
     "metadata": {},
     "output_type": "execute_result"
    }
   ],
   "source": [
    "# get prediction\n",
    "y_pred_class = model.predict_classes(test_data,\n",
    "                                     num_of_test_sample // batch_size+1,\n",
    "                                     verbose = 1)\n",
    "sum(y_pred_class == 1)"
   ]
  },
  {
   "cell_type": "code",
   "execution_count": 24,
   "metadata": {},
   "outputs": [],
   "source": [
    "y_pred_arg_class = np.argmax(y_pred_class, axis = 1)"
   ]
  },
  {
   "cell_type": "code",
   "execution_count": 25,
   "metadata": {},
   "outputs": [
    {
     "data": {
      "text/html": [
       "<div>\n",
       "<style scoped>\n",
       "    .dataframe tbody tr th:only-of-type {\n",
       "        vertical-align: middle;\n",
       "    }\n",
       "\n",
       "    .dataframe tbody tr th {\n",
       "        vertical-align: top;\n",
       "    }\n",
       "\n",
       "    .dataframe thead th {\n",
       "        text-align: right;\n",
       "    }\n",
       "</style>\n",
       "<table border=\"1\" class=\"dataframe\">\n",
       "  <thead>\n",
       "    <tr style=\"text-align: right;\">\n",
       "      <th></th>\n",
       "      <th>actual go</th>\n",
       "      <th>actual stop</th>\n",
       "    </tr>\n",
       "  </thead>\n",
       "  <tbody>\n",
       "    <tr>\n",
       "      <th>predicted go</th>\n",
       "      <td>13249</td>\n",
       "      <td>16674</td>\n",
       "    </tr>\n",
       "    <tr>\n",
       "      <th>predicted stop</th>\n",
       "      <td>17592</td>\n",
       "      <td>22108</td>\n",
       "    </tr>\n",
       "  </tbody>\n",
       "</table>\n",
       "</div>"
      ],
      "text/plain": [
       "                actual go  actual stop\n",
       "predicted go        13249        16674\n",
       "predicted stop      17592        22108"
      ]
     },
     "execution_count": 25,
     "metadata": {},
     "output_type": "execute_result"
    }
   ],
   "source": [
    "matrix = confusion_matrix(test_data.classes, y_pred_class)\n",
    "pd.DataFrame(matrix, columns= ['actual go', 'actual stop'], index=['predicted go','predicted stop'])"
   ]
  },
  {
   "cell_type": "code",
   "execution_count": 26,
   "metadata": {},
   "outputs": [
    {
     "name": "stdout",
     "output_type": "stream",
     "text": [
      "              precision    recall  f1-score   support\n",
      "\n",
      "           0       0.43      0.44      0.44     29923\n",
      "           1       0.57      0.56      0.56     39700\n",
      "\n",
      "    accuracy                           0.51     69623\n",
      "   macro avg       0.50      0.50      0.50     69623\n",
      "weighted avg       0.51      0.51      0.51     69623\n",
      "\n"
     ]
    }
   ],
   "source": [
    "# classification report\n",
    "report = classification_report(test_data.classes, y_pred_class)\n",
    "print(report)"
   ]
  },
  {
   "cell_type": "code",
   "execution_count": 27,
   "metadata": {},
   "outputs": [
    {
     "data": {
      "image/png": "[encoded data removed]",
      "text/plain": [
       "<Figure size 864x576 with 1 Axes>"
      ]
     },
     "metadata": {
      "needs_background": "light"
     },
     "output_type": "display_data"
    }
   ],
   "source": [
    "# loss visualization\n",
    "train_loss = history.history['loss']\n",
    "test_loss = history.history['val_loss']\n",
    "plt.figure(figsize=(12, 8))\n",
    "plt.plot(train_loss, label='Training Loss', color='#185fad')\n",
    "plt.plot(test_loss, label='Testing Loss', color='orange')\n",
    "plt.title('Training and Testing Loss by Epoch Model', fontsize = 25)\n",
    "plt.xlabel('Epoch', fontsize = 18)\n",
    "plt.ylabel('Categorical Crossentropy', fontsize = 18)\n",
    "# plt.xticks(np.arange(10), np.arange(10))\n",
    "#plt.ylim((0, 1)) \n",
    "plt.legend(fontsize = 18);"
   ]
  },
  {
   "cell_type": "code",
   "execution_count": 28,
   "metadata": {},
   "outputs": [
    {
     "data": {
      "image/png": "[encoded data removed]",
      "text/plain": [
       "<Figure size 864x576 with 1 Axes>"
      ]
     },
     "metadata": {
      "needs_background": "light"
     },
     "output_type": "display_data"
    }
   ],
   "source": [
    "# accuracy visualization\n",
    "train_acc = history.history['acc']\n",
    "test_acc = history.history['val_acc']\n",
    "plt.figure(figsize=(12, 8))\n",
    "plt.plot(train_acc, label='Training Acc', color='#185fad')\n",
    "plt.plot(test_acc, label='Testing Acc', color='orange')\n",
    "plt.title('Training and Testing Acc by Epoch Model', fontsize = 25)\n",
    "plt.xlabel('Epochs', fontsize = 18)\n",
    "plt.ylabel('Categorical Crossentropy', fontsize = 18)\n",
    "# plt.xticks(np.arange(10), np.arange(10))\n",
    "#plt.ylim((0, 1))\n",
    "plt.legend(fontsize = 18);"
   ]
  },
  {
   "cell_type": "code",
   "execution_count": 29,
   "metadata": {},
   "outputs": [
    {
     "name": "stdout",
     "output_type": "stream",
     "text": [
      "1088/1088 [==============================] - 147s 135ms/step - loss: 0.5138 - acc: 0.8399\n",
      "loss 0.5138237366644556\n",
      "acc 0.8399092\n"
     ]
    }
   ],
   "source": [
    "# value for test loss and accuracy\n",
    "score = model.evaluate(test_data,\n",
    "                       verbose=1)\n",
    "\n",
    "labels = model.metrics_names\n",
    "\n",
    "print(labels[0], score[0])\n",
    "print(labels[1], score[1])"
   ]
  },
  {
   "cell_type": "code",
   "execution_count": 30,
   "metadata": {},
   "outputs": [
    {
     "data": {
      "image/png": "[encoded data removed]",
      "text/plain": [
       "<Figure size 720x504 with 1 Axes>"
      ]
     },
     "metadata": {
      "needs_background": "light"
     },
     "output_type": "display_data"
    }
   ],
   "source": [
    "# distribution of outcome\n",
    "\n",
    "pred_proba_df = pd.DataFrame({\n",
    "    'true' : test_data.classes,\n",
    "    'pred_prob' : y_pred_class.flatten()\n",
    "})\n",
    "\n",
    "# Adapt from notes Classification Metrics II\n",
    "\n",
    "# Create figure.\n",
    "plt.figure(figsize = (10,7))\n",
    "\n",
    "# Create two histograms of observations.\n",
    "plt.hist(pred_proba_df[pred_proba_df['true'] == 0]['pred_prob'],\n",
    "         bins = 25,\n",
    "         color = 'b',\n",
    "         alpha = 0.6,\n",
    "         label = 'Outcome = 0')\n",
    "plt.hist(pred_proba_df[pred_proba_df['true'] == 1]['pred_prob'],\n",
    "         bins = 25,\n",
    "         color = 'orange',\n",
    "         alpha = 0.6,\n",
    "         label = 'Outcome = 1')\n",
    "\n",
    "# Add vertical line at P(Outcome = 1) = 0.5.\n",
    "plt.vlines(x = 0.5,\n",
    "           ymin = 0,\n",
    "           ymax = 30000,\n",
    "           color = 'r',\n",
    "           linestyle = '--')\n",
    "\n",
    "# Add annotations for TN, FN, TP, FP.\n",
    "plt.annotate(xy = (0.04, 20000),\n",
    "             s = 'FN',\n",
    "             size = 20)\n",
    "\n",
    "plt.annotate(xy = (0.04, 13000),\n",
    "             s = 'TN',\n",
    "             size = 20)\n",
    "\n",
    "plt.annotate(xy = (0.9, 16000),\n",
    "             s = 'FP',\n",
    "             size = 20)\n",
    "\n",
    "plt.annotate(xy = (0.9, 22000),\n",
    "             s = 'TP',\n",
    "             size = 20)\n",
    "\n",
    "# Label axes.\n",
    "plt.title('Model test color recognition', fontsize = 22)\n",
    "plt.ylabel('Frequency', fontsize = 18)\n",
    "plt.xlabel('Predicted Probability that Outcome = 1 (stop)', fontsize = 18)\n",
    "\n",
    "# Create legend.\n",
    "plt.legend(fontsize = 20);"
   ]
  },
  {
   "cell_type": "code",
   "execution_count": null,
   "metadata": {},
   "outputs": [],
   "source": []
  }
 ],
 "metadata": {
  "kernelspec": {
   "display_name": "Python 3",
   "language": "python",
   "name": "python3"
  },
  "language_info": {
   "codemirror_mode": {
    "name": "ipython",
    "version": 3
   },
   "file_extension": ".py",
   "mimetype": "text/x-python",
   "name": "python",
   "nbconvert_exporter": "python",
   "pygments_lexer": "ipython3",
   "version": "3.7.6"
  }
 },
 "nbformat": 4,
 "nbformat_minor": 4
}
